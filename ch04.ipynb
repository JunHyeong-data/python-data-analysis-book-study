{
  "nbformat": 4,
  "nbformat_minor": 0,
  "metadata": {
    "colab": {
      "provenance": [],
      "authorship_tag": "ABX9TyOqt7R1VrqO6TnyG/faZrID",
      "include_colab_link": true
    },
    "kernelspec": {
      "name": "python3",
      "display_name": "Python 3"
    },
    "language_info": {
      "name": "python"
    }
  },
  "cells": [
    {
      "cell_type": "markdown",
      "metadata": {
        "id": "view-in-github",
        "colab_type": "text"
      },
      "source": [
        "<a href=\"https://colab.research.google.com/github/JunHyeong-data/python-data-analysis-book-study/blob/main/ch04.ipynb\" target=\"_parent\"><img src=\"https://colab.research.google.com/assets/colab-badge.svg\" alt=\"Open In Colab\"/></a>"
      ]
    },
    {
      "cell_type": "markdown",
      "source": [
        "# 넘파이 기본: 배열과 벡터 연산\n",
        "- 넘파이는 파이썬에서 산술 계산을 위한 가장 중요한 필수 패키지 중 하나\n",
        "- 넘파이는 포괄적이고 잘 문서화된 C API를 제공하므로 저수준 언어로 작성된 외부 라이브러이에 데이터를 전달하거나 외부 라이브러리에서 데이터를 넘파이 배열로 파이썬에 전달하기 용이\n"
      ],
      "metadata": {
        "id": "ybmvWLHfT8PP"
      }
    },
    {
      "cell_type": "code",
      "execution_count": 1,
      "metadata": {
        "id": "6Ao_ol5DTzGu"
      },
      "outputs": [],
      "source": [
        "import numpy as np\n",
        "np.random.seed(12345)\n",
        "import matplotlib.pyplot as plt\n",
        "plt.rc(\"figure\", figsize=(10, 6))\n",
        "np.set_printoptions(precision=4, suppress=True)"
      ]
    },
    {
      "cell_type": "code",
      "source": [
        "# 성능 차이를 확인하기 위해 1백만 개의 정수를 저장하는 넘파이 배열과 파이썬 리스트를 비교\n",
        "import numpy as np\n",
        "\n",
        "my_arr = np.arange(1_000_000)\n",
        "my_list = list(range(1_000_000))\n",
        "%timeit my_arr2 = my_arr * 2\n",
        "%timeit my_list2 = [x * 2 for x in my_list]\n",
        "# 넘파이를 사용한 코드가 순수 파이썬으로 작성한 코드보다 열 배에서 백 배 이쌍 빠르고 메모리도 더 적게 사용한다."
      ],
      "metadata": {
        "colab": {
          "base_uri": "https://localhost:8080/"
        },
        "id": "0ypoYw-VUu70",
        "outputId": "d2e723a5-35b9-47cc-8e9b-00c8e557de1f"
      },
      "execution_count": 2,
      "outputs": [
        {
          "output_type": "stream",
          "name": "stdout",
          "text": [
            "1.31 ms ± 91.4 µs per loop (mean ± std. dev. of 7 runs, 1000 loops each)\n",
            "65.9 ms ± 15.6 ms per loop (mean ± std. dev. of 7 runs, 10 loops each)\n"
          ]
        }
      ]
    },
    {
      "cell_type": "markdown",
      "source": [
        "## 다차원 배열 객체 ndarray\n",
        "- 넘파이의 핵심 기능 ndarray라고 하는 N차원의 배열 객체\n",
        "- 배열을 사용하면 수학적 연산을 수행할 수 있다."
      ],
      "metadata": {
        "id": "sOquEVhOVILS"
      }
    },
    {
      "cell_type": "code",
      "source": [
        "import numpy as np\n",
        "data = np.array([[1.5, -0.1, 3], [0, -3, 6.5]])\n",
        "data"
      ],
      "metadata": {
        "colab": {
          "base_uri": "https://localhost:8080/"
        },
        "id": "PvD2vNJaVZ-F",
        "outputId": "ff2b3702-5abd-4e5d-d907-b05b19d4fd76"
      },
      "execution_count": 104,
      "outputs": [
        {
          "output_type": "execute_result",
          "data": {
            "text/plain": [
              "array([[ 1.5, -0.1,  3. ],\n",
              "       [ 0. , -3. ,  6.5]])"
            ]
          },
          "metadata": {},
          "execution_count": 104
        }
      ]
    },
    {
      "cell_type": "code",
      "source": [
        "print(data * 10)\n",
        "print(data + data)"
      ],
      "metadata": {
        "colab": {
          "base_uri": "https://localhost:8080/"
        },
        "id": "F4Pc0dFxVeO8",
        "outputId": "c2f51c6b-34e1-42be-9d48-91c9c12267e5"
      },
      "execution_count": 105,
      "outputs": [
        {
          "output_type": "stream",
          "name": "stdout",
          "text": [
            "[[ 15.  -1.  30.]\n",
            " [  0. -30.  65.]]\n",
            "[[ 3.  -0.2  6. ]\n",
            " [ 0.  -6.  13. ]]\n"
          ]
        }
      ]
    },
    {
      "cell_type": "code",
      "source": [
        "print(data.shape)\n",
        "data.dtype"
      ],
      "metadata": {
        "colab": {
          "base_uri": "https://localhost:8080/"
        },
        "id": "HQmyYfjSV8xA",
        "outputId": "41d0a659-f535-48f0-c72b-741269644c53"
      },
      "execution_count": 106,
      "outputs": [
        {
          "output_type": "stream",
          "name": "stdout",
          "text": [
            "(2, 3)\n"
          ]
        },
        {
          "output_type": "execute_result",
          "data": {
            "text/plain": [
              "dtype('float64')"
            ]
          },
          "metadata": {},
          "execution_count": 106
        }
      ]
    },
    {
      "cell_type": "markdown",
      "source": [
        "### ndarray 생성하기\n",
        "- 배열을 생성하는 가장 쉬운 방법은 array 함수 사용\n",
        "- 순차적인 객체를 받아 넘겨받은 데이터가 들어 있는 새로운 넘파이 배열을 생성"
      ],
      "metadata": {
        "id": "33iL6pH6WJmR"
      }
    },
    {
      "cell_type": "code",
      "source": [
        "data1 = [6, 7.5, 8, 0, 1]\n",
        "arr1 = np.array(data1)\n",
        "arr1"
      ],
      "metadata": {
        "colab": {
          "base_uri": "https://localhost:8080/"
        },
        "id": "CP3x5SF8WZlj",
        "outputId": "b3b17ef1-1abd-4370-a2cd-345815605981"
      },
      "execution_count": 10,
      "outputs": [
        {
          "output_type": "execute_result",
          "data": {
            "text/plain": [
              "array([6. , 7.5, 8. , 0. , 1. ])"
            ]
          },
          "metadata": {},
          "execution_count": 10
        }
      ]
    },
    {
      "cell_type": "code",
      "source": [
        "data2 = [[1, 2, 3, 4], [5, 6, 7, 8]]\n",
        "arr2 = np.array(data2)\n",
        "arr2"
      ],
      "metadata": {
        "colab": {
          "base_uri": "https://localhost:8080/"
        },
        "id": "_iUGXEWuWfmG",
        "outputId": "b92e6827-afc3-4898-da08-79ade57650a3"
      },
      "execution_count": 11,
      "outputs": [
        {
          "output_type": "execute_result",
          "data": {
            "text/plain": [
              "array([[1, 2, 3, 4],\n",
              "       [5, 6, 7, 8]])"
            ]
          },
          "metadata": {},
          "execution_count": 11
        }
      ]
    },
    {
      "cell_type": "code",
      "source": [
        "arr2.ndim\n",
        "# 차원"
      ],
      "metadata": {
        "colab": {
          "base_uri": "https://localhost:8080/"
        },
        "id": "57kzbgjkWk58",
        "outputId": "f7c2b47c-5dba-4a42-ff98-092023c71532"
      },
      "execution_count": 12,
      "outputs": [
        {
          "output_type": "execute_result",
          "data": {
            "text/plain": [
              "2"
            ]
          },
          "metadata": {},
          "execution_count": 12
        }
      ]
    },
    {
      "cell_type": "code",
      "source": [
        "arr2.shape\n",
        "# 형태"
      ],
      "metadata": {
        "colab": {
          "base_uri": "https://localhost:8080/"
        },
        "id": "l7Ob_CBfWn5I",
        "outputId": "c6d58e9e-3f1d-4d78-fd75-31fa24c987a1"
      },
      "execution_count": 14,
      "outputs": [
        {
          "output_type": "execute_result",
          "data": {
            "text/plain": [
              "(2, 4)"
            ]
          },
          "metadata": {},
          "execution_count": 14
        }
      ]
    },
    {
      "cell_type": "code",
      "source": [
        "print(arr1.dtype)\n",
        "arr2.dtype"
      ],
      "metadata": {
        "colab": {
          "base_uri": "https://localhost:8080/"
        },
        "id": "qpNxOPqEWtx9",
        "outputId": "d1c6f76b-01d4-4b51-eb2c-56afae6454e9"
      },
      "execution_count": 16,
      "outputs": [
        {
          "output_type": "stream",
          "name": "stdout",
          "text": [
            "float64\n"
          ]
        },
        {
          "output_type": "execute_result",
          "data": {
            "text/plain": [
              "dtype('int64')"
            ]
          },
          "metadata": {},
          "execution_count": 16
        }
      ]
    },
    {
      "cell_type": "code",
      "source": [
        "print(np.zeros(10))\n",
        "print(np.zeros((3, 6)))\n",
        "np.empty((2, 3, 2))\n",
        "# zeros와 ones는 주어진 길이나 모양에 각각 0과 1이 들어 있는 배열을 생성\n",
        "# empty 함수는 초기화 되지 않은 배열을 생성"
      ],
      "metadata": {
        "colab": {
          "base_uri": "https://localhost:8080/"
        },
        "id": "LdiuhtU9W590",
        "outputId": "5d027145-de18-47d8-f868-ead786cb90e7"
      },
      "execution_count": 18,
      "outputs": [
        {
          "output_type": "stream",
          "name": "stdout",
          "text": [
            "[0. 0. 0. 0. 0. 0. 0. 0. 0. 0.]\n",
            "[[0. 0. 0. 0. 0. 0.]\n",
            " [0. 0. 0. 0. 0. 0.]\n",
            " [0. 0. 0. 0. 0. 0.]]\n"
          ]
        },
        {
          "output_type": "execute_result",
          "data": {
            "text/plain": [
              "array([[[0., 0.],\n",
              "        [0., 0.],\n",
              "        [0., 0.]],\n",
              "\n",
              "       [[0., 0.],\n",
              "        [0., 0.],\n",
              "        [0., 0.]]])"
            ]
          },
          "metadata": {},
          "execution_count": 18
        }
      ]
    },
    {
      "cell_type": "code",
      "source": [
        "np.arange(15)\n",
        "# array는 파이썬의 range함수의 배열 버전이다."
      ],
      "metadata": {
        "colab": {
          "base_uri": "https://localhost:8080/"
        },
        "id": "-S_piVv2XPcD",
        "outputId": "1b8f1209-1951-4208-a8e6-0de17e69068f"
      },
      "execution_count": 19,
      "outputs": [
        {
          "output_type": "execute_result",
          "data": {
            "text/plain": [
              "array([ 0,  1,  2,  3,  4,  5,  6,  7,  8,  9, 10, 11, 12, 13, 14])"
            ]
          },
          "metadata": {},
          "execution_count": 19
        }
      ]
    },
    {
      "cell_type": "markdown",
      "source": [
        "### ndarray의 자료형\n",
        "- 자료형(dtype)은 ndarray가 메모리에 있는 특정 데이터를 해석하는 데 필요한 정보를 담고 있는 특수한 객체다.\n",
        "- ndarray의 astype 메서드를 사용해 배열의 dtype을 다른 형으로 명시적으로 변환가능"
      ],
      "metadata": {
        "id": "w3j4xW2DYCoH"
      }
    },
    {
      "cell_type": "code",
      "source": [
        "arr1 = np.array([1, 2, 3], dtype=np.float64)\n",
        "arr2 = np.array([1, 2, 3], dtype=np.int32)\n",
        "print(arr1.dtype)\n",
        "arr2.dtype"
      ],
      "metadata": {
        "colab": {
          "base_uri": "https://localhost:8080/"
        },
        "id": "tOUliS13YgL6",
        "outputId": "e9cfe9b4-263e-46e3-9b4d-13fa33868342"
      },
      "execution_count": 21,
      "outputs": [
        {
          "output_type": "stream",
          "name": "stdout",
          "text": [
            "float64\n"
          ]
        },
        {
          "output_type": "execute_result",
          "data": {
            "text/plain": [
              "dtype('int32')"
            ]
          },
          "metadata": {},
          "execution_count": 21
        }
      ]
    },
    {
      "cell_type": "code",
      "source": [
        "arr = np.array([3.7, -1.2, -2.6, 0.5, 12.9, 10.1])\n",
        "print(arr.dtype)\n",
        "arr.astype(np.int32)"
      ],
      "metadata": {
        "colab": {
          "base_uri": "https://localhost:8080/"
        },
        "id": "CWrKBTmPYog2",
        "outputId": "a62f5a7e-2d7c-47bf-b24e-63ffde23a04c"
      },
      "execution_count": 24,
      "outputs": [
        {
          "output_type": "stream",
          "name": "stdout",
          "text": [
            "float64\n"
          ]
        },
        {
          "output_type": "execute_result",
          "data": {
            "text/plain": [
              "array([ 3, -1, -2,  0, 12, 10], dtype=int32)"
            ]
          },
          "metadata": {},
          "execution_count": 24
        }
      ]
    },
    {
      "cell_type": "code",
      "source": [
        "numeric_strings = np.array([\"1.25\", \"-9.6\", \"42\"], dtype=np.bytes_)\n",
        "numeric_strings.astype(float)"
      ],
      "metadata": {
        "colab": {
          "base_uri": "https://localhost:8080/"
        },
        "id": "gb06G7D5ZJDo",
        "outputId": "9d99b7f3-e8f1-48a5-b917-c89503894ee6"
      },
      "execution_count": 26,
      "outputs": [
        {
          "output_type": "execute_result",
          "data": {
            "text/plain": [
              "array([ 1.25, -9.6 , 42.  ])"
            ]
          },
          "metadata": {},
          "execution_count": 26
        }
      ]
    },
    {
      "cell_type": "code",
      "source": [
        "int_array = np.arange(10)\n",
        "calibers = np.array([.22, .270, .357, .380, .44, .50], dtype=np.float64)\n",
        "int_array.astype(calibers.dtype)"
      ],
      "metadata": {
        "colab": {
          "base_uri": "https://localhost:8080/"
        },
        "id": "kecPJRjMZdGk",
        "outputId": "1d6486fc-de66-4d72-f62b-dec8c8b9b92e"
      },
      "execution_count": 27,
      "outputs": [
        {
          "output_type": "execute_result",
          "data": {
            "text/plain": [
              "array([0., 1., 2., 3., 4., 5., 6., 7., 8., 9.])"
            ]
          },
          "metadata": {},
          "execution_count": 27
        }
      ]
    },
    {
      "cell_type": "code",
      "source": [
        "zeros_uint32 = np.zeros(8, dtype=\"u4\")\n",
        "zeros_uint32"
      ],
      "metadata": {
        "colab": {
          "base_uri": "https://localhost:8080/"
        },
        "id": "K6d_-WkiZhtG",
        "outputId": "871cb4a8-3f03-4c0a-b713-9c08a143caad"
      },
      "execution_count": 28,
      "outputs": [
        {
          "output_type": "execute_result",
          "data": {
            "text/plain": [
              "array([0, 0, 0, 0, 0, 0, 0, 0], dtype=uint32)"
            ]
          },
          "metadata": {},
          "execution_count": 28
        }
      ]
    },
    {
      "cell_type": "markdown",
      "source": [
        "### 넘파이 배열의 산술 연산\n",
        "- 배열은 for 문을 작성하지 않고 데이터를 일괄 처리할 수 있어 매우 중요하다"
      ],
      "metadata": {
        "id": "m04xkhpdZin4"
      }
    },
    {
      "cell_type": "code",
      "source": [
        "arr = np.array([[1., 2., 3.], [4., 5., 6.]])\n",
        "print(arr)\n",
        "print(arr * arr)\n",
        "arr - arr"
      ],
      "metadata": {
        "colab": {
          "base_uri": "https://localhost:8080/"
        },
        "id": "L1p9SLKAZqpJ",
        "outputId": "e8711f82-246b-4f16-bf62-2b13a3c2f1de"
      },
      "execution_count": 29,
      "outputs": [
        {
          "output_type": "stream",
          "name": "stdout",
          "text": [
            "[[1. 2. 3.]\n",
            " [4. 5. 6.]]\n",
            "[[ 1.  4.  9.]\n",
            " [16. 25. 36.]]\n"
          ]
        },
        {
          "output_type": "execute_result",
          "data": {
            "text/plain": [
              "array([[0., 0., 0.],\n",
              "       [0., 0., 0.]])"
            ]
          },
          "metadata": {},
          "execution_count": 29
        }
      ]
    },
    {
      "cell_type": "code",
      "source": [
        "print(1 / arr)\n",
        "arr ** 2"
      ],
      "metadata": {
        "colab": {
          "base_uri": "https://localhost:8080/"
        },
        "id": "DSfrtmCqZ4ji",
        "outputId": "7ed8c213-6de2-4446-8fe1-aff681df4e78"
      },
      "execution_count": 30,
      "outputs": [
        {
          "output_type": "stream",
          "name": "stdout",
          "text": [
            "[[1.     0.5    0.3333]\n",
            " [0.25   0.2    0.1667]]\n"
          ]
        },
        {
          "output_type": "execute_result",
          "data": {
            "text/plain": [
              "array([[ 1.,  4.,  9.],\n",
              "       [16., 25., 36.]])"
            ]
          },
          "metadata": {},
          "execution_count": 30
        }
      ]
    },
    {
      "cell_type": "code",
      "source": [
        "arr2 = np.array([[0., 4., 1.], [7., 2., 12.]])\n",
        "arr2\n",
        "arr2 > arr"
      ],
      "metadata": {
        "colab": {
          "base_uri": "https://localhost:8080/"
        },
        "id": "yGbcRoNMaCvb",
        "outputId": "28aba173-b4e0-4d1c-985a-eaaa5526e6d4"
      },
      "execution_count": 31,
      "outputs": [
        {
          "output_type": "execute_result",
          "data": {
            "text/plain": [
              "array([[False,  True, False],\n",
              "       [ True, False,  True]])"
            ]
          },
          "metadata": {},
          "execution_count": 31
        }
      ]
    },
    {
      "cell_type": "markdown",
      "source": [
        "### 색인과 슬라이싱 기초"
      ],
      "metadata": {
        "id": "RSjaqFbtaJTt"
      }
    },
    {
      "cell_type": "code",
      "source": [
        "arr = np.arange(10)\n",
        "print(arr)\n",
        "print(arr[5])\n",
        "print(arr[5:8])\n",
        "arr[5:8] = 12\n",
        "arr"
      ],
      "metadata": {
        "colab": {
          "base_uri": "https://localhost:8080/"
        },
        "id": "05GY9Iq5aPLe",
        "outputId": "c5cedff8-1e9b-433a-f727-8941ad9e51f6"
      },
      "execution_count": 35,
      "outputs": [
        {
          "output_type": "stream",
          "name": "stdout",
          "text": [
            "[0 1 2 3 4 5 6 7 8 9]\n",
            "5\n",
            "[5 6 7]\n"
          ]
        },
        {
          "output_type": "execute_result",
          "data": {
            "text/plain": [
              "array([ 0,  1,  2,  3,  4, 12, 12, 12,  8,  9])"
            ]
          },
          "metadata": {},
          "execution_count": 35
        }
      ]
    },
    {
      "cell_type": "code",
      "source": [
        "arr_slice = arr[5:8]\n",
        "arr_slice"
      ],
      "metadata": {
        "colab": {
          "base_uri": "https://localhost:8080/"
        },
        "id": "Py2P5hOJatRP",
        "outputId": "e62c2a5a-cc92-435d-bf98-3232e2c0e853"
      },
      "execution_count": 36,
      "outputs": [
        {
          "output_type": "execute_result",
          "data": {
            "text/plain": [
              "array([12, 12, 12])"
            ]
          },
          "metadata": {},
          "execution_count": 36
        }
      ]
    },
    {
      "cell_type": "code",
      "source": [
        "arr_slice[1] = 12345\n",
        "arr\n",
        "# arr_slice의 값을 변경하면 원래 배열인 arr의 값도 바뀌어 있음을 확인할 수 있다."
      ],
      "metadata": {
        "colab": {
          "base_uri": "https://localhost:8080/"
        },
        "id": "bSsUDDFOav8g",
        "outputId": "5efccb73-cd11-4141-d695-041ca7f79867"
      },
      "execution_count": 37,
      "outputs": [
        {
          "output_type": "execute_result",
          "data": {
            "text/plain": [
              "array([    0,     1,     2,     3,     4,    12, 12345,    12,     8,\n",
              "           9])"
            ]
          },
          "metadata": {},
          "execution_count": 37
        }
      ]
    },
    {
      "cell_type": "code",
      "source": [
        "arr_slice[:] = 64\n",
        "arr\n",
        "# 단순히 [:]로 슬라이스하면 배열의 모든 값에 할당된다."
      ],
      "metadata": {
        "colab": {
          "base_uri": "https://localhost:8080/"
        },
        "id": "4klbRelBa6no",
        "outputId": "9791a4b2-aac8-4ba3-a1a2-c77cba8346d7"
      },
      "execution_count": 38,
      "outputs": [
        {
          "output_type": "execute_result",
          "data": {
            "text/plain": [
              "array([ 0,  1,  2,  3,  4, 64, 64, 64,  8,  9])"
            ]
          },
          "metadata": {},
          "execution_count": 38
        }
      ]
    },
    {
      "cell_type": "code",
      "source": [
        "arr2d = np.array([[1, 2, 3], [4, 5, 6], [7, 8, 9]])\n",
        "arr2d[2]"
      ],
      "metadata": {
        "colab": {
          "base_uri": "https://localhost:8080/"
        },
        "id": "gU-i4vcAbWP9",
        "outputId": "3adad803-aeac-4934-a091-eefc2fd222b1"
      },
      "execution_count": 39,
      "outputs": [
        {
          "output_type": "execute_result",
          "data": {
            "text/plain": [
              "array([7, 8, 9])"
            ]
          },
          "metadata": {},
          "execution_count": 39
        }
      ]
    },
    {
      "cell_type": "code",
      "source": [
        "print(arr2d[0][2])\n",
        "arr2d[0, 2]\n",
        "# 다음 두 표현은 동일하다"
      ],
      "metadata": {
        "colab": {
          "base_uri": "https://localhost:8080/"
        },
        "id": "MjDTB74wbYkF",
        "outputId": "59c65c09-a245-45a9-9fd3-86b06ebc07c1"
      },
      "execution_count": 41,
      "outputs": [
        {
          "output_type": "stream",
          "name": "stdout",
          "text": [
            "3\n"
          ]
        },
        {
          "output_type": "execute_result",
          "data": {
            "text/plain": [
              "np.int64(3)"
            ]
          },
          "metadata": {},
          "execution_count": 41
        }
      ]
    },
    {
      "cell_type": "code",
      "source": [
        "arr3d = np.array([[[1, 2, 3], [4, 5, 6]], [[7, 8, 9], [10, 11, 12]]])\n",
        "arr3d.shape"
      ],
      "metadata": {
        "colab": {
          "base_uri": "https://localhost:8080/"
        },
        "id": "WppUvrGcbiLH",
        "outputId": "1b7715fa-5b0c-4cac-afa1-cd21c775d05c"
      },
      "execution_count": 63,
      "outputs": [
        {
          "output_type": "execute_result",
          "data": {
            "text/plain": [
              "(2, 2, 3)"
            ]
          },
          "metadata": {},
          "execution_count": 63
        }
      ]
    },
    {
      "cell_type": "code",
      "source": [
        "arr3d[0]"
      ],
      "metadata": {
        "colab": {
          "base_uri": "https://localhost:8080/"
        },
        "id": "0Ax3ip7obtBq",
        "outputId": "29799cf8-77f4-43a6-858c-1a86c28ce014"
      },
      "execution_count": 43,
      "outputs": [
        {
          "output_type": "execute_result",
          "data": {
            "text/plain": [
              "array([[1, 2, 3],\n",
              "       [4, 5, 6]])"
            ]
          },
          "metadata": {},
          "execution_count": 43
        }
      ]
    },
    {
      "cell_type": "code",
      "source": [
        "old_values = arr3d[0].copy()\n",
        "arr3d[0] = 42\n",
        "arr3d"
      ],
      "metadata": {
        "colab": {
          "base_uri": "https://localhost:8080/"
        },
        "id": "oiDZuzQ4bv88",
        "outputId": "96e6fdff-0a81-4b5b-abb4-36eb015bed5b"
      },
      "execution_count": 44,
      "outputs": [
        {
          "output_type": "execute_result",
          "data": {
            "text/plain": [
              "array([[[42, 42, 42],\n",
              "        [42, 42, 42]],\n",
              "\n",
              "       [[ 7,  8,  9],\n",
              "        [10, 11, 12]]])"
            ]
          },
          "metadata": {},
          "execution_count": 44
        }
      ]
    },
    {
      "cell_type": "code",
      "source": [
        "arr3d[0] = old_values\n",
        "arr3d"
      ],
      "metadata": {
        "colab": {
          "base_uri": "https://localhost:8080/"
        },
        "id": "xBPdL40bb1KJ",
        "outputId": "7a0409fe-dbf9-4b8b-e2ac-b319e78a047c"
      },
      "execution_count": 45,
      "outputs": [
        {
          "output_type": "execute_result",
          "data": {
            "text/plain": [
              "array([[[ 1,  2,  3],\n",
              "        [ 4,  5,  6]],\n",
              "\n",
              "       [[ 7,  8,  9],\n",
              "        [10, 11, 12]]])"
            ]
          },
          "metadata": {},
          "execution_count": 45
        }
      ]
    },
    {
      "cell_type": "code",
      "source": [
        "arr3d[1, 0]"
      ],
      "metadata": {
        "colab": {
          "base_uri": "https://localhost:8080/"
        },
        "id": "UrnfenKkb6tu",
        "outputId": "3ce20786-b0fb-42bf-ec78-28f164d9ff5f"
      },
      "execution_count": 46,
      "outputs": [
        {
          "output_type": "execute_result",
          "data": {
            "text/plain": [
              "array([7, 8, 9])"
            ]
          },
          "metadata": {},
          "execution_count": 46
        }
      ]
    },
    {
      "cell_type": "code",
      "source": [
        "x = arr3d[1]\n",
        "print(x)\n",
        "x[0]"
      ],
      "metadata": {
        "colab": {
          "base_uri": "https://localhost:8080/"
        },
        "id": "zUCZXkJLcB1R",
        "outputId": "95405c79-b385-493a-d305-cf3aeaf1137c"
      },
      "execution_count": 48,
      "outputs": [
        {
          "output_type": "stream",
          "name": "stdout",
          "text": [
            "[[ 7  8  9]\n",
            " [10 11 12]]\n"
          ]
        },
        {
          "output_type": "execute_result",
          "data": {
            "text/plain": [
              "array([7, 8, 9])"
            ]
          },
          "metadata": {},
          "execution_count": 48
        }
      ]
    },
    {
      "cell_type": "code",
      "source": [
        "print(arr)\n",
        "arr[1:6]"
      ],
      "metadata": {
        "colab": {
          "base_uri": "https://localhost:8080/"
        },
        "id": "S3n-0exUciig",
        "outputId": "79b879ce-08b4-4636-e8f3-584a307e8022"
      },
      "execution_count": 50,
      "outputs": [
        {
          "output_type": "stream",
          "name": "stdout",
          "text": [
            "[ 0  1  2  3  4 64 64 64  8  9]\n"
          ]
        },
        {
          "output_type": "execute_result",
          "data": {
            "text/plain": [
              "array([ 1,  2,  3,  4, 64])"
            ]
          },
          "metadata": {},
          "execution_count": 50
        }
      ]
    },
    {
      "cell_type": "code",
      "source": [
        "print(arr2d)\n",
        "arr2d[:2]"
      ],
      "metadata": {
        "colab": {
          "base_uri": "https://localhost:8080/"
        },
        "id": "fRLaZb5bcr5Y",
        "outputId": "97a3f40e-d7ff-4cec-8299-1e5c81cc7422"
      },
      "execution_count": 52,
      "outputs": [
        {
          "output_type": "stream",
          "name": "stdout",
          "text": [
            "[[1 2 3]\n",
            " [4 5 6]\n",
            " [7 8 9]]\n"
          ]
        },
        {
          "output_type": "execute_result",
          "data": {
            "text/plain": [
              "array([[1, 2, 3],\n",
              "       [4, 5, 6]])"
            ]
          },
          "metadata": {},
          "execution_count": 52
        }
      ]
    },
    {
      "cell_type": "code",
      "source": [
        "arr2d[:2, 1:]"
      ],
      "metadata": {
        "colab": {
          "base_uri": "https://localhost:8080/"
        },
        "id": "5CUjB0Q1cxz0",
        "outputId": "b116bb87-b478-4551-e1d2-f1c3e7815ba4"
      },
      "execution_count": 53,
      "outputs": [
        {
          "output_type": "execute_result",
          "data": {
            "text/plain": [
              "array([[2, 3],\n",
              "       [5, 6]])"
            ]
          },
          "metadata": {},
          "execution_count": 53
        }
      ]
    },
    {
      "cell_type": "code",
      "source": [
        "lower_dim_slice = arr2d[1, :2]"
      ],
      "metadata": {
        "id": "kzH2wltgc3Bf"
      },
      "execution_count": 54,
      "outputs": []
    },
    {
      "cell_type": "code",
      "source": [
        "lower_dim_slice.shape"
      ],
      "metadata": {
        "colab": {
          "base_uri": "https://localhost:8080/"
        },
        "id": "x0TaQC7dc4u0",
        "outputId": "74677c64-f279-40ce-903e-df856a158b90"
      },
      "execution_count": 55,
      "outputs": [
        {
          "output_type": "execute_result",
          "data": {
            "text/plain": [
              "(2,)"
            ]
          },
          "metadata": {},
          "execution_count": 55
        }
      ]
    },
    {
      "cell_type": "code",
      "source": [
        "arr2d[:2, 2]"
      ],
      "metadata": {
        "colab": {
          "base_uri": "https://localhost:8080/"
        },
        "id": "9MjAAstFc-4M",
        "outputId": "a2b44c7e-b957-4a79-e89b-18f203fac505"
      },
      "execution_count": 56,
      "outputs": [
        {
          "output_type": "execute_result",
          "data": {
            "text/plain": [
              "array([3, 6])"
            ]
          },
          "metadata": {},
          "execution_count": 56
        }
      ]
    },
    {
      "cell_type": "code",
      "source": [
        "arr2d[:, :1]"
      ],
      "metadata": {
        "colab": {
          "base_uri": "https://localhost:8080/"
        },
        "id": "PNgQgDL2dIHi",
        "outputId": "9df19e35-c18d-4099-f98f-9a16e23e0461"
      },
      "execution_count": 57,
      "outputs": [
        {
          "output_type": "execute_result",
          "data": {
            "text/plain": [
              "array([[1],\n",
              "       [4],\n",
              "       [7]])"
            ]
          },
          "metadata": {},
          "execution_count": 57
        }
      ]
    },
    {
      "cell_type": "code",
      "source": [
        "arr2d[:2, 1:] = 0\n",
        "arr2d"
      ],
      "metadata": {
        "colab": {
          "base_uri": "https://localhost:8080/"
        },
        "id": "1qwSV7aJdQWK",
        "outputId": "011bdf99-e233-4836-faeb-642c392cc734"
      },
      "execution_count": 59,
      "outputs": [
        {
          "output_type": "execute_result",
          "data": {
            "text/plain": [
              "array([[1, 0, 0],\n",
              "       [4, 0, 0],\n",
              "       [7, 8, 9]])"
            ]
          },
          "metadata": {},
          "execution_count": 59
        }
      ]
    },
    {
      "cell_type": "markdown",
      "source": [
        "### 불리언 값으로 선택하기"
      ],
      "metadata": {
        "id": "tu7EB5S6dYbj"
      }
    },
    {
      "cell_type": "code",
      "source": [
        "names = np.array([\"Bob\", \"Joe\", \"Will\", \"Bob\", \"Will\", \"Joe\", \"Joe\"])\n",
        "data = np.array([[4, 7], [0, 2], [-5, 6], [0, 0], [1, 2],\n",
        "                 [-12, -4], [3, 4]])\n",
        "names\n",
        "data.shape"
      ],
      "metadata": {
        "colab": {
          "base_uri": "https://localhost:8080/"
        },
        "id": "fA5uA-v1daw4",
        "outputId": "8389a550-1996-4388-aa03-123a46874f20"
      },
      "execution_count": 75,
      "outputs": [
        {
          "output_type": "execute_result",
          "data": {
            "text/plain": [
              "(7, 2)"
            ]
          },
          "metadata": {},
          "execution_count": 75
        }
      ]
    },
    {
      "cell_type": "code",
      "source": [
        "names == \"Bob\""
      ],
      "metadata": {
        "colab": {
          "base_uri": "https://localhost:8080/"
        },
        "id": "0JFk3PTziThw",
        "outputId": "3c6b4590-ce8f-48df-c97f-b2962324dee0"
      },
      "execution_count": 76,
      "outputs": [
        {
          "output_type": "execute_result",
          "data": {
            "text/plain": [
              "array([ True, False, False,  True, False, False, False])"
            ]
          },
          "metadata": {},
          "execution_count": 76
        }
      ]
    },
    {
      "cell_type": "code",
      "source": [
        "data[names == \"Bob\"]\n",
        "# 불리언 배열은 배열의 색인으로 사용할 수 있다."
      ],
      "metadata": {
        "colab": {
          "base_uri": "https://localhost:8080/"
        },
        "id": "GW_47QYTiZBQ",
        "outputId": "131e9743-cb83-4344-98f2-8e4d13c049ff"
      },
      "execution_count": 77,
      "outputs": [
        {
          "output_type": "execute_result",
          "data": {
            "text/plain": [
              "array([[4, 7],\n",
              "       [0, 0]])"
            ]
          },
          "metadata": {},
          "execution_count": 77
        }
      ]
    },
    {
      "cell_type": "code",
      "source": [
        "print(data[names == \"Bob\", 1:])\n",
        "data[names == \"Bob\", 1]"
      ],
      "metadata": {
        "colab": {
          "base_uri": "https://localhost:8080/"
        },
        "id": "1AdVg_p-iqzi",
        "outputId": "df81b8f7-3879-4554-f064-9010d0d92670"
      },
      "execution_count": 78,
      "outputs": [
        {
          "output_type": "stream",
          "name": "stdout",
          "text": [
            "[[7]\n",
            " [0]]\n"
          ]
        },
        {
          "output_type": "execute_result",
          "data": {
            "text/plain": [
              "array([7, 0])"
            ]
          },
          "metadata": {},
          "execution_count": 78
        }
      ]
    },
    {
      "cell_type": "code",
      "source": [
        "names != \"Bob\"\n",
        "print(~(names == \"Bob\"))\n",
        "data[~(names == \"Bob\")]"
      ],
      "metadata": {
        "colab": {
          "base_uri": "https://localhost:8080/"
        },
        "id": "hlxBeD3njUyn",
        "outputId": "6dd666df-0721-41d5-8789-571a56ebb3ff"
      },
      "execution_count": 79,
      "outputs": [
        {
          "output_type": "stream",
          "name": "stdout",
          "text": [
            "[False  True  True False  True  True  True]\n"
          ]
        },
        {
          "output_type": "execute_result",
          "data": {
            "text/plain": [
              "array([[  0,   2],\n",
              "       [ -5,   6],\n",
              "       [  1,   2],\n",
              "       [-12,  -4],\n",
              "       [  3,   4]])"
            ]
          },
          "metadata": {},
          "execution_count": 79
        }
      ]
    },
    {
      "cell_type": "code",
      "source": [
        "cond = names == \"Bob\"\n",
        "data[~cond]\n",
        "# ~연산자는 변수가 참조하는 불리언 배열을 뒤집고 싶을 때 유용하다"
      ],
      "metadata": {
        "colab": {
          "base_uri": "https://localhost:8080/"
        },
        "id": "EPiVwQbxjcrt",
        "outputId": "8eba70bc-6bfd-425a-ad98-443bc5693095"
      },
      "execution_count": 80,
      "outputs": [
        {
          "output_type": "execute_result",
          "data": {
            "text/plain": [
              "array([[  0,   2],\n",
              "       [ -5,   6],\n",
              "       [  1,   2],\n",
              "       [-12,  -4],\n",
              "       [  3,   4]])"
            ]
          },
          "metadata": {},
          "execution_count": 80
        }
      ]
    },
    {
      "cell_type": "code",
      "source": [
        "mask = (names == \"Bob\") | (names == \"Will\")\n",
        "print(mask)\n",
        "data[mask]"
      ],
      "metadata": {
        "colab": {
          "base_uri": "https://localhost:8080/"
        },
        "id": "oHr_AUiAjneu",
        "outputId": "fb94e860-acaf-4b57-f916-936fe7f08717"
      },
      "execution_count": 81,
      "outputs": [
        {
          "output_type": "stream",
          "name": "stdout",
          "text": [
            "[ True False  True  True  True False False]\n"
          ]
        },
        {
          "output_type": "execute_result",
          "data": {
            "text/plain": [
              "array([[ 4,  7],\n",
              "       [-5,  6],\n",
              "       [ 0,  0],\n",
              "       [ 1,  2]])"
            ]
          },
          "metadata": {},
          "execution_count": 81
        }
      ]
    },
    {
      "cell_type": "code",
      "source": [
        "print(data)\n",
        "data[data < 0] = 0\n",
        "data\n",
        "# 불리언 배열에 값을 대입하면 오른쪽에 있는 값을 불리언 배열의 값이 True인 위치로 대체하여 작동한다."
      ],
      "metadata": {
        "colab": {
          "base_uri": "https://localhost:8080/"
        },
        "id": "9ecm9DCgjx9m",
        "outputId": "3f632379-298a-48cc-e991-db0b5dcdd9a2"
      },
      "execution_count": 82,
      "outputs": [
        {
          "output_type": "stream",
          "name": "stdout",
          "text": [
            "[[  4   7]\n",
            " [  0   2]\n",
            " [ -5   6]\n",
            " [  0   0]\n",
            " [  1   2]\n",
            " [-12  -4]\n",
            " [  3   4]]\n"
          ]
        },
        {
          "output_type": "execute_result",
          "data": {
            "text/plain": [
              "array([[4, 7],\n",
              "       [0, 2],\n",
              "       [0, 6],\n",
              "       [0, 0],\n",
              "       [1, 2],\n",
              "       [0, 0],\n",
              "       [3, 4]])"
            ]
          },
          "metadata": {},
          "execution_count": 82
        }
      ]
    },
    {
      "cell_type": "code",
      "source": [
        "data[names != \"Joe\"] = 7\n",
        "data"
      ],
      "metadata": {
        "colab": {
          "base_uri": "https://localhost:8080/"
        },
        "id": "Os-aQdtkkNkp",
        "outputId": "f1d134c2-327f-406f-8c53-d7b642625fef"
      },
      "execution_count": 83,
      "outputs": [
        {
          "output_type": "execute_result",
          "data": {
            "text/plain": [
              "array([[7, 7],\n",
              "       [0, 2],\n",
              "       [7, 7],\n",
              "       [7, 7],\n",
              "       [7, 7],\n",
              "       [0, 0],\n",
              "       [3, 4]])"
            ]
          },
          "metadata": {},
          "execution_count": 83
        }
      ]
    },
    {
      "cell_type": "markdown",
      "source": [
        "### 팬시 색인\n",
        "- 팬시 색인(fancy indexing)은 정수 배열을 사용한 색인을 설명하기 위해 넘파이에서 차용한 단어이다."
      ],
      "metadata": {
        "id": "o_7hge5jknPA"
      }
    },
    {
      "cell_type": "code",
      "source": [
        "arr = np.zeros((8, 4))\n",
        "for i in range(8):\n",
        "    arr[i] = i\n",
        "arr"
      ],
      "metadata": {
        "colab": {
          "base_uri": "https://localhost:8080/"
        },
        "id": "qnMQJHKzkbPx",
        "outputId": "0246bfb7-e389-42e9-fdd9-fdb550a4ad07"
      },
      "execution_count": 91,
      "outputs": [
        {
          "output_type": "execute_result",
          "data": {
            "text/plain": [
              "array([[0., 0., 0., 0.],\n",
              "       [1., 1., 1., 1.],\n",
              "       [2., 2., 2., 2.],\n",
              "       [3., 3., 3., 3.],\n",
              "       [4., 4., 4., 4.],\n",
              "       [5., 5., 5., 5.],\n",
              "       [6., 6., 6., 6.],\n",
              "       [7., 7., 7., 7.]])"
            ]
          },
          "metadata": {},
          "execution_count": 91
        }
      ]
    },
    {
      "cell_type": "code",
      "source": [
        "arr[[4, 3, 0, 6]]\n",
        "# 특정한 순서로 행의 하위집합을 선택하고 싶다면 원하는 순서가 명시된 정수가 담긴 ndarray나 리스트를 넘기면 된다"
      ],
      "metadata": {
        "colab": {
          "base_uri": "https://localhost:8080/"
        },
        "id": "vWvDh5fnkyYW",
        "outputId": "cb5b55a0-be41-4c8e-c767-44dc1725ef14"
      },
      "execution_count": 92,
      "outputs": [
        {
          "output_type": "execute_result",
          "data": {
            "text/plain": [
              "array([[4., 4., 4., 4.],\n",
              "       [3., 3., 3., 3.],\n",
              "       [0., 0., 0., 0.],\n",
              "       [6., 6., 6., 6.]])"
            ]
          },
          "metadata": {},
          "execution_count": 92
        }
      ]
    },
    {
      "cell_type": "code",
      "source": [
        "arr[[-3, -5, -7]]"
      ],
      "metadata": {
        "colab": {
          "base_uri": "https://localhost:8080/"
        },
        "id": "l79q5XYglCZ9",
        "outputId": "cb169b99-ca49-4f12-dd6c-cbdea7cbd5e3"
      },
      "execution_count": 93,
      "outputs": [
        {
          "output_type": "execute_result",
          "data": {
            "text/plain": [
              "array([[5., 5., 5., 5.],\n",
              "       [3., 3., 3., 3.],\n",
              "       [1., 1., 1., 1.]])"
            ]
          },
          "metadata": {},
          "execution_count": 93
        }
      ]
    },
    {
      "cell_type": "code",
      "source": [
        "arr = np.arange(32).reshape((8, 4))\n",
        "print(arr)\n",
        "arr[[1, 5, 7, 2], [0, 3, 1, 2]]\n",
        "# 다차원 색인 배열을 넘기면 조금 다르게 작동\n",
        "# 결과를 살펴보변 (1,0), (5,3), (7,1), (2,2)에 대응하는 원소가 선택됨\n",
        "# 배열이 몇 차원이든지 팬시 색인의 결과는 항상 1차원"
      ],
      "metadata": {
        "colab": {
          "base_uri": "https://localhost:8080/"
        },
        "id": "2_wKSRK4lO02",
        "outputId": "52d729ba-6de5-422a-84b3-4f0d59b7672a"
      },
      "execution_count": 94,
      "outputs": [
        {
          "output_type": "stream",
          "name": "stdout",
          "text": [
            "[[ 0  1  2  3]\n",
            " [ 4  5  6  7]\n",
            " [ 8  9 10 11]\n",
            " [12 13 14 15]\n",
            " [16 17 18 19]\n",
            " [20 21 22 23]\n",
            " [24 25 26 27]\n",
            " [28 29 30 31]]\n"
          ]
        },
        {
          "output_type": "execute_result",
          "data": {
            "text/plain": [
              "array([ 4, 23, 29, 10])"
            ]
          },
          "metadata": {},
          "execution_count": 94
        }
      ]
    },
    {
      "cell_type": "code",
      "source": [
        "arr[[1, 5, 7, 2]][:, [0, 3, 1, 2]]"
      ],
      "metadata": {
        "colab": {
          "base_uri": "https://localhost:8080/"
        },
        "id": "HFjts9wLltXN",
        "outputId": "24a716b3-61aa-4aa6-e86d-0196b5f40845"
      },
      "execution_count": 95,
      "outputs": [
        {
          "output_type": "execute_result",
          "data": {
            "text/plain": [
              "array([[ 4,  7,  5,  6],\n",
              "       [20, 23, 21, 22],\n",
              "       [28, 31, 29, 30],\n",
              "       [ 8, 11,  9, 10]])"
            ]
          },
          "metadata": {},
          "execution_count": 95
        }
      ]
    },
    {
      "cell_type": "code",
      "source": [
        "print(arr[[1, 5, 7, 2], [0, 3, 1, 2]])\n",
        "arr[[1, 5, 7, 2], [0, 3, 1, 2]] = 0\n",
        "arr"
      ],
      "metadata": {
        "colab": {
          "base_uri": "https://localhost:8080/"
        },
        "id": "eir2NnZPmDSr",
        "outputId": "30b3c7f9-2fd5-4086-cf62-121bde71d879"
      },
      "execution_count": 96,
      "outputs": [
        {
          "output_type": "stream",
          "name": "stdout",
          "text": [
            "[ 4 23 29 10]\n"
          ]
        },
        {
          "output_type": "execute_result",
          "data": {
            "text/plain": [
              "array([[ 0,  1,  2,  3],\n",
              "       [ 0,  5,  6,  7],\n",
              "       [ 8,  9,  0, 11],\n",
              "       [12, 13, 14, 15],\n",
              "       [16, 17, 18, 19],\n",
              "       [20, 21, 22,  0],\n",
              "       [24, 25, 26, 27],\n",
              "       [28,  0, 30, 31]])"
            ]
          },
          "metadata": {},
          "execution_count": 96
        }
      ]
    },
    {
      "cell_type": "markdown",
      "source": [
        "### 배열 전치와 축 바꾸기\n",
        "- 배열 전치는 데이터를 복사하지 않고 데이터의 모양이 바뀐 뷰를 반환하는 특별한 기능\n",
        "- ndarray는 transpose 메서드와 T라는 이름의 특수한 속성을 가진다"
      ],
      "metadata": {
        "id": "yV30xoEImOKC"
      }
    },
    {
      "cell_type": "code",
      "source": [
        "arr = np.arange(15).reshape((3, 5))\n",
        "print(arr)\n",
        "arr.T"
      ],
      "metadata": {
        "colab": {
          "base_uri": "https://localhost:8080/"
        },
        "id": "3TpLzOtimcOJ",
        "outputId": "e2173294-2e1e-4685-c8db-c0ddf243176a"
      },
      "execution_count": 98,
      "outputs": [
        {
          "output_type": "stream",
          "name": "stdout",
          "text": [
            "[[ 0  1  2  3  4]\n",
            " [ 5  6  7  8  9]\n",
            " [10 11 12 13 14]]\n"
          ]
        },
        {
          "output_type": "execute_result",
          "data": {
            "text/plain": [
              "array([[ 0,  5, 10],\n",
              "       [ 1,  6, 11],\n",
              "       [ 2,  7, 12],\n",
              "       [ 3,  8, 13],\n",
              "       [ 4,  9, 14]])"
            ]
          },
          "metadata": {},
          "execution_count": 98
        }
      ]
    },
    {
      "cell_type": "code",
      "source": [
        "arr = np.array([[0, 1, 0], [1, 2, -2], [6, 3, 2], [-1, 0, -1], [1, 0, 1]])\n",
        "arr\n",
        "np.dot(arr.T, arr)\n",
        "# 행렬을 계산할 때 자주 사용하게 될 행렬의 내적은 numpy.dot을 이용해서 구한다."
      ],
      "metadata": {
        "colab": {
          "base_uri": "https://localhost:8080/"
        },
        "id": "LtkPaWY2mtUB",
        "outputId": "a36c8e60-0808-499b-8194-1063231b8935"
      },
      "execution_count": 99,
      "outputs": [
        {
          "output_type": "execute_result",
          "data": {
            "text/plain": [
              "array([[39, 20, 12],\n",
              "       [20, 14,  2],\n",
              "       [12,  2, 10]])"
            ]
          },
          "metadata": {},
          "execution_count": 99
        }
      ]
    },
    {
      "cell_type": "code",
      "source": [
        "arr.T @ arr\n",
        "# @ 연산자는 행렬 곱셈을 수행하는 또 다른 방법"
      ],
      "metadata": {
        "colab": {
          "base_uri": "https://localhost:8080/"
        },
        "id": "aFDMa-Ccm5IW",
        "outputId": "96d30cc6-555c-48d9-d50b-a9a974d16afa"
      },
      "execution_count": 101,
      "outputs": [
        {
          "output_type": "execute_result",
          "data": {
            "text/plain": [
              "array([[39, 20, 12],\n",
              "       [20, 14,  2],\n",
              "       [12,  2, 10]])"
            ]
          },
          "metadata": {},
          "execution_count": 101
        }
      ]
    },
    {
      "cell_type": "code",
      "source": [
        "print(arr)\n",
        "arr.swapaxes(0, 1)\n",
        "# swapaxes는 메서드를 통해 두 개의 축 번호를 받아서 배열을 뒤바꾼다"
      ],
      "metadata": {
        "colab": {
          "base_uri": "https://localhost:8080/"
        },
        "id": "A8zERhA9nAVl",
        "outputId": "6f27df12-dd16-47cd-f989-333572d9ffa1"
      },
      "execution_count": 103,
      "outputs": [
        {
          "output_type": "stream",
          "name": "stdout",
          "text": [
            "[[ 0  1  0]\n",
            " [ 1  2 -2]\n",
            " [ 6  3  2]\n",
            " [-1  0 -1]\n",
            " [ 1  0  1]]\n"
          ]
        },
        {
          "output_type": "execute_result",
          "data": {
            "text/plain": [
              "array([[ 0,  1,  6, -1,  1],\n",
              "       [ 1,  2,  3,  0,  0],\n",
              "       [ 0, -2,  2, -1,  1]])"
            ]
          },
          "metadata": {},
          "execution_count": 103
        }
      ]
    },
    {
      "cell_type": "markdown",
      "source": [
        "## 난수 생성\n",
        "- numpy.random 모듈은 파이썬 내장 random 모듈을 보강해 다양한 종류의 확률분포로부터 효과적으로 표본값을 생성하는 데 주로 사용한다"
      ],
      "metadata": {
        "id": "IABY-_kInLPH"
      }
    },
    {
      "cell_type": "code",
      "source": [
        "samples = np.random.standard_normal(size=(4, 4))\n",
        "samples\n",
        "# 표준정규분포로부터 4X4 크기의 표본을 생성할 수 있다."
      ],
      "metadata": {
        "colab": {
          "base_uri": "https://localhost:8080/"
        },
        "id": "vfp_Vos7n5wA",
        "outputId": "cbeae6c9-6561-4a3f-8adf-5a9942d4bd40"
      },
      "execution_count": 107,
      "outputs": [
        {
          "output_type": "execute_result",
          "data": {
            "text/plain": [
              "array([[-0.2047,  0.4789, -0.5194, -0.5557],\n",
              "       [ 1.9658,  1.3934,  0.0929,  0.2817],\n",
              "       [ 0.769 ,  1.2464,  1.0072, -1.2962],\n",
              "       [ 0.275 ,  0.2289,  1.3529,  0.8864]])"
            ]
          },
          "metadata": {},
          "execution_count": 107
        }
      ]
    },
    {
      "cell_type": "code",
      "source": [
        "from random import normalvariate\n",
        "N = 1_000_000\n",
        "%timeit samples = [normalvariate(0, 1) for _ in range(N)]\n",
        "%timeit np.random.standard_normal(N)\n",
        "# 파이썬 내장 모듈보다 수십배 이상 빠르다"
      ],
      "metadata": {
        "colab": {
          "base_uri": "https://localhost:8080/"
        },
        "id": "sHoQe3PdoIkn",
        "outputId": "27ab5fdf-6b43-4b4f-9e48-a542145c8e41"
      },
      "execution_count": 108,
      "outputs": [
        {
          "output_type": "stream",
          "name": "stdout",
          "text": [
            "658 ms ± 10.4 ms per loop (mean ± std. dev. of 7 runs, 1 loop each)\n",
            "39.9 ms ± 6.96 ms per loop (mean ± std. dev. of 7 runs, 10 loops each)\n"
          ]
        }
      ]
    },
    {
      "cell_type": "code",
      "source": [
        "rng = np.random.default_rng(seed=12345)\n",
        "data = rng.standard_normal((2, 3))\n",
        "data"
      ],
      "metadata": {
        "colab": {
          "base_uri": "https://localhost:8080/"
        },
        "id": "2BfuXT-eosMY",
        "outputId": "917cc891-3bc4-4775-ab6d-2cbe0ef10117"
      },
      "execution_count": 5,
      "outputs": [
        {
          "output_type": "execute_result",
          "data": {
            "text/plain": [
              "array([[-1.42382504,  1.26372846, -0.87066174],\n",
              "       [-0.25917323, -0.07534331, -0.74088465]])"
            ]
          },
          "metadata": {},
          "execution_count": 5
        }
      ]
    },
    {
      "cell_type": "code",
      "source": [
        "type(rng)"
      ],
      "metadata": {
        "colab": {
          "base_uri": "https://localhost:8080/"
        },
        "id": "DDiiwh2eo2UY",
        "outputId": "0be13a53-299c-455b-bbb4-eab7f75efee1"
      },
      "execution_count": 6,
      "outputs": [
        {
          "output_type": "execute_result",
          "data": {
            "text/plain": [
              "numpy.random._generator.Generator"
            ]
          },
          "metadata": {},
          "execution_count": 6
        }
      ]
    },
    {
      "cell_type": "markdown",
      "source": [
        "## 유니버설 함수: 배열의 각 원소를 빠르게 처리하는 함수\n",
        "- ufunc라고도 부르는 유니버설 함수는 ndarray 안의 데이터 원소별로 연산을 수행하는 함수\n",
        "- 유니버설 함수는 하나 이상의 스칼라 값을 받아서 하나 이상의 스칼라 결괏값을 반환하는 간단한 함수를 빠르게 수행하는 벡터화된 래퍼 함수라고 생각하면 된다."
      ],
      "metadata": {
        "id": "yxUR0vNj58NF"
      }
    },
    {
      "cell_type": "code",
      "source": [
        "import numpy as np\n",
        "arr = np.arange(10)\n",
        "print(arr)\n",
        "print(np.sqrt(arr))\n",
        "np.exp(arr)\n",
        "# np.sqrt나 np.exp 같은 간단한 변형을 전체 원소에 적용 가능"
      ],
      "metadata": {
        "colab": {
          "base_uri": "https://localhost:8080/"
        },
        "id": "SztRwCl35vzS",
        "outputId": "7f7a0f69-3bb8-43d8-e51e-884ffb7c0278"
      },
      "execution_count": 3,
      "outputs": [
        {
          "output_type": "stream",
          "name": "stdout",
          "text": [
            "[0 1 2 3 4 5 6 7 8 9]\n",
            "[0.         1.         1.41421356 1.73205081 2.         2.23606798\n",
            " 2.44948974 2.64575131 2.82842712 3.        ]\n"
          ]
        },
        {
          "output_type": "execute_result",
          "data": {
            "text/plain": [
              "array([1.00000000e+00, 2.71828183e+00, 7.38905610e+00, 2.00855369e+01,\n",
              "       5.45981500e+01, 1.48413159e+02, 4.03428793e+02, 1.09663316e+03,\n",
              "       2.98095799e+03, 8.10308393e+03])"
            ]
          },
          "metadata": {},
          "execution_count": 3
        }
      ]
    },
    {
      "cell_type": "code",
      "source": [
        "x = rng.standard_normal(8)\n",
        "y = rng.standard_normal(8)\n",
        "print(x)\n",
        "print(y)\n",
        "np.maximum(x, y)\n",
        "# x와 y의 원소별로 가장 큰 값을 계산"
      ],
      "metadata": {
        "colab": {
          "base_uri": "https://localhost:8080/"
        },
        "id": "p6ntlMoe6WWs",
        "outputId": "f5293aee-61c8-40d0-fdd9-c2118409b3ab"
      },
      "execution_count": 19,
      "outputs": [
        {
          "output_type": "stream",
          "name": "stdout",
          "text": [
            "[-0.96482356 -0.5566078  -2.29838764 -0.73208213  0.7364691   0.46571672\n",
            " -0.10787605 -0.34143629]\n",
            "[ 1.58453379  0.28224121  0.90954639  0.39507157 -0.66937652  1.55536898\n",
            " -1.23813903 -1.19617346]\n"
          ]
        },
        {
          "output_type": "execute_result",
          "data": {
            "text/plain": [
              "array([ 1.58453379,  0.28224121,  0.90954639,  0.39507157,  0.7364691 ,\n",
              "        1.55536898, -0.10787605, -0.34143629])"
            ]
          },
          "metadata": {},
          "execution_count": 19
        }
      ]
    },
    {
      "cell_type": "code",
      "source": [
        "arr = rng.standard_normal(7) * 5\n",
        "print(arr)\n",
        "remainder, whole_part = np.modf(arr)\n",
        "print(remainder)\n",
        "whole_part\n",
        "# np.modf는 파이썬 내장 함수인 math.modf의 벡터화 버전이며 분수를 받아서 몫과 나머지를 함께 반환한다."
      ],
      "metadata": {
        "colab": {
          "base_uri": "https://localhost:8080/"
        },
        "id": "dfyn3_1o61fm",
        "outputId": "87b5041e-4498-49f7-e692-bc9bf82988be"
      },
      "execution_count": 22,
      "outputs": [
        {
          "output_type": "stream",
          "name": "stdout",
          "text": [
            "[-4.23119986  0.9831015  -4.49818912 -1.28302714  8.36273883 -1.87634823\n",
            " 10.1839739 ]\n",
            "[-0.23119986  0.9831015  -0.49818912 -0.28302714  0.36273883 -0.87634823\n",
            "  0.1839739 ]\n"
          ]
        },
        {
          "output_type": "execute_result",
          "data": {
            "text/plain": [
              "array([-4.,  0., -4., -1.,  8., -1., 10.])"
            ]
          },
          "metadata": {},
          "execution_count": 22
        }
      ]
    },
    {
      "cell_type": "code",
      "source": [
        "print(arr)\n",
        "out = np.zeros_like(arr)\n",
        "np.add(arr, 1)\n",
        "np.add(arr, 1, out=out)\n",
        "out"
      ],
      "metadata": {
        "colab": {
          "base_uri": "https://localhost:8080/"
        },
        "id": "w0RwSXLx9TVU",
        "outputId": "577ef004-de04-4fc8-cf83-c396ed3b7c3e"
      },
      "execution_count": 25,
      "outputs": [
        {
          "output_type": "stream",
          "name": "stdout",
          "text": [
            "[-4.23119986  0.9831015  -4.49818912 -1.28302714  8.36273883 -1.87634823\n",
            " 10.1839739 ]\n"
          ]
        },
        {
          "output_type": "execute_result",
          "data": {
            "text/plain": [
              "array([-3.23119986,  1.9831015 , -3.49818912, -0.28302714,  9.36273883,\n",
              "       -0.87634823, 11.1839739 ])"
            ]
          },
          "metadata": {},
          "execution_count": 25
        }
      ]
    },
    {
      "cell_type": "markdown",
      "source": [
        "## 배열을 이용한 배열 기반 프로그래밍\n",
        "- 넘파이 배열을 사용하면 반복문을 작성하지 않고 간결한 배열 연산을 통해 많은 종류의 데이터 처리 작업을 할 수 있다.\n",
        "- 배열 연산을 사용해 반복문을 명시적으로 제거하는 기법을 벡터화라고 부른다."
      ],
      "metadata": {
        "id": "-OiC4uHZ-UM9"
      }
    },
    {
      "cell_type": "code",
      "source": [
        "points = np.arange(-5, 5, 0.01) # -5부터 4.99까지 0.01씩 증가하는 값의 배열\n",
        "xs, ys = np.meshgrid(points, points)\n",
        "ys"
      ],
      "metadata": {
        "colab": {
          "base_uri": "https://localhost:8080/"
        },
        "id": "8cT2VUlD9xg7",
        "outputId": "fcedec7d-e526-496b-d465-14773b259dca"
      },
      "execution_count": 24,
      "outputs": [
        {
          "output_type": "execute_result",
          "data": {
            "text/plain": [
              "array([[-5.  , -5.  , -5.  , ..., -5.  , -5.  , -5.  ],\n",
              "       [-4.99, -4.99, -4.99, ..., -4.99, -4.99, -4.99],\n",
              "       [-4.98, -4.98, -4.98, ..., -4.98, -4.98, -4.98],\n",
              "       ...,\n",
              "       [ 4.97,  4.97,  4.97, ...,  4.97,  4.97,  4.97],\n",
              "       [ 4.98,  4.98,  4.98, ...,  4.98,  4.98,  4.98],\n",
              "       [ 4.99,  4.99,  4.99, ...,  4.99,  4.99,  4.99]])"
            ]
          },
          "metadata": {},
          "execution_count": 24
        }
      ]
    },
    {
      "cell_type": "code",
      "source": [
        "z = np.sqrt(xs ** 2 + ys ** 2)\n",
        "z"
      ],
      "metadata": {
        "colab": {
          "base_uri": "https://localhost:8080/"
        },
        "id": "5_gX2jPt-5FE",
        "outputId": "128a7f4b-94c0-4c0c-819b-bd3aca6f064e"
      },
      "execution_count": 26,
      "outputs": [
        {
          "output_type": "execute_result",
          "data": {
            "text/plain": [
              "array([[7.07106781, 7.06400028, 7.05693985, ..., 7.04988652, 7.05693985,\n",
              "        7.06400028],\n",
              "       [7.06400028, 7.05692568, 7.04985815, ..., 7.04279774, 7.04985815,\n",
              "        7.05692568],\n",
              "       [7.05693985, 7.04985815, 7.04278354, ..., 7.03571603, 7.04278354,\n",
              "        7.04985815],\n",
              "       ...,\n",
              "       [7.04988652, 7.04279774, 7.03571603, ..., 7.0286414 , 7.03571603,\n",
              "        7.04279774],\n",
              "       [7.05693985, 7.04985815, 7.04278354, ..., 7.03571603, 7.04278354,\n",
              "        7.04985815],\n",
              "       [7.06400028, 7.05692568, 7.04985815, ..., 7.04279774, 7.04985815,\n",
              "        7.05692568]])"
            ]
          },
          "metadata": {},
          "execution_count": 26
        }
      ]
    },
    {
      "cell_type": "code",
      "source": [
        "import matplotlib.pyplot as plt\n",
        "plt.imshow(z, cmap=plt.cm.gray, extent=[-5, 5, -5, 5])\n",
        "plt.colorbar()\n",
        "plt.title(\"Image plot of $\\sqrt{x^2 + y^2}$ for a grid of values\")"
      ],
      "metadata": {
        "colab": {
          "base_uri": "https://localhost:8080/",
          "height": 481
        },
        "id": "U-9oKovo-6mO",
        "outputId": "0aecd573-9640-492e-a5c7-e1a60a031d8c"
      },
      "execution_count": 27,
      "outputs": [
        {
          "output_type": "execute_result",
          "data": {
            "text/plain": [
              "Text(0.5, 1.0, 'Image plot of $\\\\sqrt{x^2 + y^2}$ for a grid of values')"
            ]
          },
          "metadata": {},
          "execution_count": 27
        },
        {
          "output_type": "display_data",
          "data": {
            "text/plain": [
              "<Figure size 640x480 with 2 Axes>"
            ],
            "image/png": "[encoded data removed]"
          },
          "metadata": {}
        }
      ]
    },
    {
      "cell_type": "code",
      "source": [
        "plt.draw()"
      ],
      "metadata": {
        "colab": {
          "base_uri": "https://localhost:8080/",
          "height": 36
        },
        "id": "zklQXqMX_qfx",
        "outputId": "3972e6e9-ef4d-4803-c2f8-5bf27634e27a"
      },
      "execution_count": 28,
      "outputs": [
        {
          "output_type": "display_data",
          "data": {
            "text/plain": [
              "<Figure size 640x480 with 0 Axes>"
            ]
          },
          "metadata": {}
        }
      ]
    },
    {
      "cell_type": "code",
      "source": [
        "plt.close(\"all\")"
      ],
      "metadata": {
        "id": "lN5Icdyd_tBM"
      },
      "execution_count": 29,
      "outputs": []
    },
    {
      "cell_type": "markdown",
      "source": [
        "### 배열 연산으로 조건부 표현하기\n",
        "- numpy.where 함수는 x if 조건 else y 같은 삼항식의 벡터화된 버전이다."
      ],
      "metadata": {
        "id": "p5-76mL2_yjW"
      }
    },
    {
      "cell_type": "code",
      "source": [
        "xarr = np.array([1.1, 1.2, 1.3, 1.4, 1.5])\n",
        "yarr = np.array([2.1, 2.2, 2.3, 2.4, 2.5])\n",
        "cond = np.array([True, False, True, True, False])"
      ],
      "metadata": {
        "id": "PynzxwRJACp7"
      },
      "execution_count": 33,
      "outputs": []
    },
    {
      "cell_type": "code",
      "source": [
        "result = [(x if c else y)\n",
        "          for x, y, c in zip(xarr, yarr, cond)]\n",
        "print(result)\n",
        "# 이 방법 몇가지 문제\n",
        "# 첫 번째로는 순수 파이썬으로 수행되기 때문에 큰 배열을 빠르게 처리 못함\n",
        "# 다차원 배열에서는 사용 못함"
      ],
      "metadata": {
        "colab": {
          "base_uri": "https://localhost:8080/"
        },
        "id": "ObzWYZyVAGPW",
        "outputId": "a1767c32-4941-4da5-ff95-5b262e80b67a"
      },
      "execution_count": 35,
      "outputs": [
        {
          "output_type": "stream",
          "name": "stdout",
          "text": [
            "[np.float64(1.1), np.float64(2.2), np.float64(1.3), np.float64(1.4), np.float64(2.5)]\n"
          ]
        }
      ]
    },
    {
      "cell_type": "code",
      "source": [
        "result = np.where(cond, xarr, yarr)\n",
        "result"
      ],
      "metadata": {
        "colab": {
          "base_uri": "https://localhost:8080/"
        },
        "id": "m0CtWmMbAlMh",
        "outputId": "4aa3a392-57e6-47f9-bdae-1a401d76c29e"
      },
      "execution_count": 36,
      "outputs": [
        {
          "output_type": "execute_result",
          "data": {
            "text/plain": [
              "array([1.1, 2.2, 1.3, 1.4, 2.5])"
            ]
          },
          "metadata": {},
          "execution_count": 36
        }
      ]
    },
    {
      "cell_type": "code",
      "source": [
        "arr = rng.standard_normal((4, 4))\n",
        "print(arr)\n",
        "print(arr > 0)\n",
        "np.where(arr > 0, 2, -2)"
      ],
      "metadata": {
        "colab": {
          "base_uri": "https://localhost:8080/"
        },
        "id": "pgbwoh4JAsYP",
        "outputId": "c369b4fd-d61d-4ac2-ed32-41f7aba8d6ee"
      },
      "execution_count": 38,
      "outputs": [
        {
          "output_type": "stream",
          "name": "stdout",
          "text": [
            "[[-0.94400054  0.5314067   0.193346   -1.11826358]\n",
            " [ 0.51184558 -2.27056629  0.26316355  2.47131349]\n",
            " [-1.0198852   0.01875261 -1.89426422 -0.75500166]\n",
            " [ 0.75619774 -1.04246201 -0.03425814 -0.3551683 ]]\n",
            "[[False  True  True False]\n",
            " [ True False  True  True]\n",
            " [False  True False False]\n",
            " [ True False False False]]\n"
          ]
        },
        {
          "output_type": "execute_result",
          "data": {
            "text/plain": [
              "array([[-2,  2,  2, -2],\n",
              "       [ 2, -2,  2,  2],\n",
              "       [-2,  2, -2, -2],\n",
              "       [ 2, -2, -2, -2]])"
            ]
          },
          "metadata": {},
          "execution_count": 38
        }
      ]
    },
    {
      "cell_type": "code",
      "source": [
        "np.where(arr > 0, 2, arr) # set only positive values to 2"
      ],
      "metadata": {
        "colab": {
          "base_uri": "https://localhost:8080/"
        },
        "id": "ONUGk7RvBDAR",
        "outputId": "4ce0f322-411d-45cb-f618-d964aa7770f3"
      },
      "execution_count": 39,
      "outputs": [
        {
          "output_type": "execute_result",
          "data": {
            "text/plain": [
              "array([[-0.94400054,  2.        ,  2.        , -1.11826358],\n",
              "       [ 2.        , -2.27056629,  2.        ,  2.        ],\n",
              "       [-1.0198852 ,  2.        , -1.89426422, -0.75500166],\n",
              "       [ 2.        , -1.04246201, -0.03425814, -0.3551683 ]])"
            ]
          },
          "metadata": {},
          "execution_count": 39
        }
      ]
    },
    {
      "cell_type": "markdown",
      "source": [
        "### 수학 메서드와 통계 메서드\n",
        "- 배열 전체 혹은 배열의 한 축에 속하는 자료에서 통계를 계산하는 수학 함수는 배열클래스의 메서드로 사용할 수 있다.\n",
        "- 합이나 평균, 표준편차는 넘파이의 최상위 함수를 이용하거나 배열의 인스턴스 메서드를 사용해서 구한다."
      ],
      "metadata": {
        "id": "Tahu_bsQBFzA"
      }
    },
    {
      "cell_type": "code",
      "source": [
        "arr = rng.standard_normal((5, 4))\n",
        "print(arr)\n",
        "print(arr.mean())\n",
        "print(np.mean(arr))\n",
        "print(arr.sum())"
      ],
      "metadata": {
        "colab": {
          "base_uri": "https://localhost:8080/"
        },
        "id": "aLoHCJ7gBbiJ",
        "outputId": "a68cabaa-7fbc-482d-b791-6f96943f1f19"
      },
      "execution_count": 41,
      "outputs": [
        {
          "output_type": "stream",
          "name": "stdout",
          "text": [
            "[[-0.51348805 -1.01573661 -1.0702709   0.12391266]\n",
            " [-0.80301588 -0.63763575  1.14449564 -1.64090191]\n",
            " [-1.31400358 -0.51035251 -0.09986088 -0.12950676]\n",
            " [-1.39670506  0.19380935 -0.12929273  0.35447909]\n",
            " [-1.08287264  0.24493923  0.22082079 -0.66043248]]\n",
            "-0.43608094868432207\n",
            "-0.43608094868432207\n",
            "-8.721618973686441\n"
          ]
        }
      ]
    },
    {
      "cell_type": "markdown",
      "source": [
        "- axis=0은 \"행을 따라 계산해서 열을 남김\"\n",
        "- axis=1은 \"열을 따라 계산해서 행을 남김\"\n",
        "- axis=0 → 아래 방향(세로 방향), 행을 따라 연산\n",
        "- axis=1 → 옆 방향(가로 방향), 열을 따라 연산"
      ],
      "metadata": {
        "id": "EliDNqK3CY5w"
      }
    },
    {
      "cell_type": "code",
      "source": [
        "print(arr.mean(axis=1))\n",
        "arr.sum(axis=0)"
      ],
      "metadata": {
        "colab": {
          "base_uri": "https://localhost:8080/"
        },
        "id": "Owa3dMjPCCOL",
        "outputId": "f8b789ad-12ce-42cd-8be3-4349190fcb7c"
      },
      "execution_count": 43,
      "outputs": [
        {
          "output_type": "stream",
          "name": "stdout",
          "text": [
            "[-0.61889572 -0.48426448 -0.51343093 -0.24442734 -0.31938627]\n"
          ]
        },
        {
          "output_type": "execute_result",
          "data": {
            "text/plain": [
              "array([-5.1100852 , -1.72497628,  0.06589192, -1.95244941])"
            ]
          },
          "metadata": {},
          "execution_count": 43
        }
      ]
    },
    {
      "cell_type": "code",
      "source": [
        "arr = np.array([0, 1, 2, 3, 4, 5, 6, 7])\n",
        "arr.cumsum()"
      ],
      "metadata": {
        "colab": {
          "base_uri": "https://localhost:8080/"
        },
        "id": "R5byNNCzDCb5",
        "outputId": "0b6a9882-70da-4c2f-f012-e72c850ab19b"
      },
      "execution_count": 44,
      "outputs": [
        {
          "output_type": "execute_result",
          "data": {
            "text/plain": [
              "array([ 0,  1,  3,  6, 10, 15, 21, 28])"
            ]
          },
          "metadata": {},
          "execution_count": 44
        }
      ]
    },
    {
      "cell_type": "markdown",
      "source": [
        "- np.sum(arr)\t그냥 전체 합\n",
        "- np.cumsum(arr)\t앞에서부터 순차적으로 더한 누적합"
      ],
      "metadata": {
        "id": "gnF0UsqWDi_4"
      }
    },
    {
      "cell_type": "code",
      "source": [
        "arr = np.array([[0, 1, 2], [3, 4, 5], [6, 7, 8]])\n",
        "arr"
      ],
      "metadata": {
        "colab": {
          "base_uri": "https://localhost:8080/"
        },
        "id": "NGP0_YYPDWYC",
        "outputId": "19664c57-ce6c-42a1-90fb-1e4c1b6b4700"
      },
      "execution_count": 45,
      "outputs": [
        {
          "output_type": "execute_result",
          "data": {
            "text/plain": [
              "array([[0, 1, 2],\n",
              "       [3, 4, 5],\n",
              "       [6, 7, 8]])"
            ]
          },
          "metadata": {},
          "execution_count": 45
        }
      ]
    },
    {
      "cell_type": "code",
      "source": [
        "print(arr.cumsum(axis=0))\n",
        "arr.cumsum(axis=1)"
      ],
      "metadata": {
        "colab": {
          "base_uri": "https://localhost:8080/"
        },
        "id": "gZPkd4HfDYvv",
        "outputId": "9c9f6de9-e861-4403-8a79-9bca18a30434"
      },
      "execution_count": 47,
      "outputs": [
        {
          "output_type": "stream",
          "name": "stdout",
          "text": [
            "[[ 0  1  2]\n",
            " [ 3  5  7]\n",
            " [ 9 12 15]]\n"
          ]
        },
        {
          "output_type": "execute_result",
          "data": {
            "text/plain": [
              "array([[ 0,  1,  3],\n",
              "       [ 3,  7, 12],\n",
              "       [ 6, 13, 21]])"
            ]
          },
          "metadata": {},
          "execution_count": 47
        }
      ]
    },
    {
      "cell_type": "markdown",
      "source": [
        "### 불리언 배열을 위한 메서드\n",
        "- 불리언 값은 True 또는 False로 강제된다.\n",
        "- 불리언 배열에서 sum 메서드를 실행하면 True인 원소의 개수가 반환된다."
      ],
      "metadata": {
        "id": "gdcTjGJdDsD2"
      }
    },
    {
      "cell_type": "code",
      "source": [
        "arr = rng.standard_normal(100)\n",
        "print(arr)\n",
        "print((arr > 0).sum()) # Number of positive values\n",
        "(arr <= 0).sum() # Number of non-positive values"
      ],
      "metadata": {
        "colab": {
          "base_uri": "https://localhost:8080/"
        },
        "id": "fjH1gTJAECz1",
        "outputId": "61dc8ac6-5295-4ecc-912c-aef52c2c41c1"
      },
      "execution_count": 50,
      "outputs": [
        {
          "output_type": "stream",
          "name": "stdout",
          "text": [
            "[ 0.96938323  0.4354152  -0.24712573  0.16818521 -0.31062454  0.0709336\n",
            " -0.1033723   0.52532528 -1.88267705 -0.34567801 -0.2913092  -1.13063834\n",
            " -0.17272468 -1.05354233 -0.66455314 -0.289682   -0.25317177 -0.57378316\n",
            "  1.10347462  0.20116509  0.32235142  0.23309276 -0.66806524 -0.88321901\n",
            "  0.83963969 -0.3530779  -1.77113747 -2.1987871   0.22176018 -0.73707721\n",
            " -0.06758385 -0.54725416 -0.40741463 -0.17273762 -1.24740736 -0.01876242\n",
            "  0.98612359  0.69567427 -1.73962463 -1.34163608 -1.33282638 -0.24806882\n",
            "  0.85483479  0.32298434 -1.75364283  0.05488553  0.80741159 -0.44901398\n",
            "  1.90417969 -0.6514683   1.17248231  2.35122688 -1.2764236  -0.32368662\n",
            "  0.5746962   3.21141765 -1.78846554  0.56605023  0.28479635 -0.42237613\n",
            " -0.83485244 -0.52591618 -0.30305367 -1.2698595   1.5754851  -1.1084501\n",
            " -0.42751936 -0.66148108 -0.41325393  0.09297793 -0.75759707 -0.23612991\n",
            "  1.72446043  1.05620035 -0.288029    0.9071776  -0.76849407  0.22593124\n",
            " -1.42854248 -1.14411867 -0.86655639  1.23753573  0.23069137  0.54776303\n",
            "  0.15165293  0.36690004  0.41947892  0.76532119  0.16125668 -0.91603482\n",
            " -0.79091899  1.21417311  1.41180344  0.55936443 -1.64489871  1.57517058\n",
            "  0.3229356  -0.074522    0.01965488 -0.37268364]\n",
            "44\n"
          ]
        },
        {
          "output_type": "execute_result",
          "data": {
            "text/plain": [
              "np.int64(56)"
            ]
          },
          "metadata": {},
          "execution_count": 50
        }
      ]
    },
    {
      "cell_type": "code",
      "source": [
        "bools = np.array([False, False, True, False])\n",
        "bools.any()\n",
        "bools.all()"
      ],
      "metadata": {
        "colab": {
          "base_uri": "https://localhost:8080/"
        },
        "id": "v_Ev8T_wEMhR",
        "outputId": "e2c0f313-203d-49e5-ae46-ee121b8b64d8"
      },
      "execution_count": 51,
      "outputs": [
        {
          "output_type": "execute_result",
          "data": {
            "text/plain": [
              "np.False_"
            ]
          },
          "metadata": {},
          "execution_count": 51
        }
      ]
    },
    {
      "cell_type": "markdown",
      "source": [
        "### 정렬"
      ],
      "metadata": {
        "id": "Rq4HPPxiEQlm"
      }
    },
    {
      "cell_type": "code",
      "source": [
        "arr = rng.standard_normal(6)\n",
        "print(arr)\n",
        "arr.sort()\n",
        "arr"
      ],
      "metadata": {
        "colab": {
          "base_uri": "https://localhost:8080/"
        },
        "id": "pD9kFWZnFm5i",
        "outputId": "b12b5791-b969-4110-8303-aa36c05501e7"
      },
      "execution_count": 53,
      "outputs": [
        {
          "output_type": "stream",
          "name": "stdout",
          "text": [
            "[-2.42960165  0.93061002  1.6678386  -0.33409003 -0.05151061  1.2432583 ]\n"
          ]
        },
        {
          "output_type": "execute_result",
          "data": {
            "text/plain": [
              "array([-2.42960165, -0.33409003, -0.05151061,  0.93061002,  1.2432583 ,\n",
              "        1.6678386 ])"
            ]
          },
          "metadata": {},
          "execution_count": 53
        }
      ]
    },
    {
      "cell_type": "code",
      "source": [
        "arr = rng.standard_normal((5, 3))\n",
        "arr"
      ],
      "metadata": {
        "colab": {
          "base_uri": "https://localhost:8080/"
        },
        "id": "vR0iTuq5Ftlz",
        "outputId": "cf455c42-f9c1-42e2-87f4-44e0daf357bd"
      },
      "execution_count": 54,
      "outputs": [
        {
          "output_type": "execute_result",
          "data": {
            "text/plain": [
              "array([[ 0.36703643, -1.34618662, -1.18188225],\n",
              "       [-1.04500481, -1.43236727, -0.02008862],\n",
              "       [-0.53416669,  0.02687545,  0.69273232],\n",
              "       [ 1.77458224,  0.20214111, -1.88084695],\n",
              "       [ 1.37878553, -0.13364709,  1.15171173]])"
            ]
          },
          "metadata": {},
          "execution_count": 54
        }
      ]
    },
    {
      "cell_type": "code",
      "source": [
        "arr.sort(axis=0)\n",
        "print(arr)\n",
        "arr.sort(axis=1)\n",
        "arr"
      ],
      "metadata": {
        "colab": {
          "base_uri": "https://localhost:8080/"
        },
        "id": "42pLKglrFyOA",
        "outputId": "8e6436cb-f560-44df-c19e-1fa6cfb32a30"
      },
      "execution_count": 56,
      "outputs": [
        {
          "output_type": "stream",
          "name": "stdout",
          "text": [
            "[[-1.88084695 -1.43236727 -1.04500481]\n",
            " [-1.34618662 -1.18188225 -0.53416669]\n",
            " [-0.13364709 -0.02008862  0.36703643]\n",
            " [ 0.02687545  0.69273232  1.37878553]\n",
            " [ 0.20214111  1.15171173  1.77458224]]\n"
          ]
        },
        {
          "output_type": "execute_result",
          "data": {
            "text/plain": [
              "array([[-1.88084695, -1.43236727, -1.04500481],\n",
              "       [-1.34618662, -1.18188225, -0.53416669],\n",
              "       [-0.13364709, -0.02008862,  0.36703643],\n",
              "       [ 0.02687545,  0.69273232,  1.37878553],\n",
              "       [ 0.20214111,  1.15171173,  1.77458224]])"
            ]
          },
          "metadata": {},
          "execution_count": 56
        }
      ]
    },
    {
      "cell_type": "code",
      "source": [
        "arr2 = np.array([5, -10, 7, 1, 0, -3])\n",
        "sorted_arr2 = np.sort(arr2)\n",
        "sorted_arr2"
      ],
      "metadata": {
        "colab": {
          "base_uri": "https://localhost:8080/"
        },
        "id": "cpmMRHsgF9-S",
        "outputId": "5893b5ca-f757-40ba-e19f-82209ea7d2c7"
      },
      "execution_count": 57,
      "outputs": [
        {
          "output_type": "execute_result",
          "data": {
            "text/plain": [
              "array([-10,  -3,   0,   1,   5,   7])"
            ]
          },
          "metadata": {},
          "execution_count": 57
        }
      ]
    },
    {
      "cell_type": "markdown",
      "source": [
        "### 집합 관련 함수"
      ],
      "metadata": {
        "id": "wmn4wiTYGA8o"
      }
    },
    {
      "cell_type": "code",
      "source": [
        "names = np.array([\"Bob\", \"Will\", \"Joe\", \"Bob\", \"Will\", \"Joe\", \"Joe\"])\n",
        "np.unique(names)\n",
        "ints = np.array([3, 3, 3, 2, 2, 1, 1, 4, 4])\n",
        "np.unique(ints)"
      ],
      "metadata": {
        "colab": {
          "base_uri": "https://localhost:8080/"
        },
        "id": "e1cu2LeIGr8C",
        "outputId": "15ca4573-2024-4122-a1d2-c0c600bfa1f0"
      },
      "execution_count": 58,
      "outputs": [
        {
          "output_type": "execute_result",
          "data": {
            "text/plain": [
              "array([1, 2, 3, 4])"
            ]
          },
          "metadata": {},
          "execution_count": 58
        }
      ]
    },
    {
      "cell_type": "code",
      "source": [
        "sorted(set(names))"
      ],
      "metadata": {
        "colab": {
          "base_uri": "https://localhost:8080/"
        },
        "id": "O3zkYIYNGtnu",
        "outputId": "1e589017-f43f-4ba5-f35d-d45418f53224"
      },
      "execution_count": 59,
      "outputs": [
        {
          "output_type": "execute_result",
          "data": {
            "text/plain": [
              "[np.str_('Bob'), np.str_('Joe'), np.str_('Will')]"
            ]
          },
          "metadata": {},
          "execution_count": 59
        }
      ]
    },
    {
      "cell_type": "code",
      "source": [
        "values = np.array([6, 0, 0, 3, 2, 5, 6])\n",
        "np.in1d(values, [2, 3, 6])"
      ],
      "metadata": {
        "colab": {
          "base_uri": "https://localhost:8080/"
        },
        "id": "YJfw6hcrG09X",
        "outputId": "f3d88ad8-4e0c-4f2e-8aaa-d2eb878963a5"
      },
      "execution_count": 60,
      "outputs": [
        {
          "output_type": "stream",
          "name": "stderr",
          "text": [
            "<ipython-input-60-440155b193fa>:2: DeprecationWarning: `in1d` is deprecated. Use `np.isin` instead.\n",
            "  np.in1d(values, [2, 3, 6])\n"
          ]
        },
        {
          "output_type": "execute_result",
          "data": {
            "text/plain": [
              "array([ True, False, False,  True,  True, False,  True])"
            ]
          },
          "metadata": {},
          "execution_count": 60
        }
      ]
    },
    {
      "cell_type": "markdown",
      "source": [
        "## 4.5 배열 데이터의 파일 입출력\n",
        "- 넘파이는 디스크에서 텍스트나 바이너리 형식의 데이터를 불러오거나 저장할 수 있다."
      ],
      "metadata": {
        "id": "UVXmrSISG6pp"
      }
    },
    {
      "cell_type": "markdown",
      "source": [
        "## 4.6 선형대수"
      ],
      "metadata": {
        "id": "b6eTKScXHVaR"
      }
    },
    {
      "cell_type": "code",
      "source": [
        "x = np.array([[1., 2., 3.], [4., 5., 6.]])\n",
        "y = np.array([[6., 23.], [-1, 7], [8, 9]])\n",
        "print(x)\n",
        "print(y)\n",
        "x.dot(y)"
      ],
      "metadata": {
        "colab": {
          "base_uri": "https://localhost:8080/"
        },
        "id": "2G_4FFUIHaNO",
        "outputId": "77472216-de63-43b7-f588-a6c61f9a644d"
      },
      "execution_count": 62,
      "outputs": [
        {
          "output_type": "stream",
          "name": "stdout",
          "text": [
            "[[1. 2. 3.]\n",
            " [4. 5. 6.]]\n",
            "[[ 6. 23.]\n",
            " [-1.  7.]\n",
            " [ 8.  9.]]\n"
          ]
        },
        {
          "output_type": "execute_result",
          "data": {
            "text/plain": [
              "array([[ 28.,  64.],\n",
              "       [ 67., 181.]])"
            ]
          },
          "metadata": {},
          "execution_count": 62
        }
      ]
    },
    {
      "cell_type": "code",
      "source": [
        "np.dot(x, y)\n",
        "# x.dot(y)는 np.dot(x, y)와 동일하다"
      ],
      "metadata": {
        "colab": {
          "base_uri": "https://localhost:8080/"
        },
        "id": "fQl-aR7RHlNt",
        "outputId": "b7d236ca-8c9e-497a-cb7f-76c46fb41ec9"
      },
      "execution_count": 63,
      "outputs": [
        {
          "output_type": "execute_result",
          "data": {
            "text/plain": [
              "array([[ 28.,  64.],\n",
              "       [ 67., 181.]])"
            ]
          },
          "metadata": {},
          "execution_count": 63
        }
      ]
    },
    {
      "cell_type": "code",
      "source": [
        "x @ np.ones(3)"
      ],
      "metadata": {
        "colab": {
          "base_uri": "https://localhost:8080/"
        },
        "id": "jF0F6QtCHxCd",
        "outputId": "875acbb1-0a01-4f2b-8a3c-5869ec8d0c3f"
      },
      "execution_count": 64,
      "outputs": [
        {
          "output_type": "execute_result",
          "data": {
            "text/plain": [
              "array([ 6., 15.])"
            ]
          },
          "metadata": {},
          "execution_count": 64
        }
      ]
    },
    {
      "cell_type": "code",
      "source": [
        "from numpy.linalg import inv, qr\n",
        "X = rng.standard_normal((5, 5))\n",
        "mat = X.T @ X\n",
        "inv(mat)\n",
        "mat @ inv(mat)"
      ],
      "metadata": {
        "colab": {
          "base_uri": "https://localhost:8080/"
        },
        "id": "9EJS3zvrICLC",
        "outputId": "c36bba83-8f27-45c2-f396-aa6a8ca90430"
      },
      "execution_count": 65,
      "outputs": [
        {
          "output_type": "execute_result",
          "data": {
            "text/plain": [
              "array([[ 1.00000000e+00, -2.22162379e-17, -4.76176301e-17,\n",
              "         2.24581180e-16,  6.63025213e-17],\n",
              "       [-2.33433667e-16,  1.00000000e+00,  9.78908326e-17,\n",
              "        -2.56668851e-16, -6.18266487e-17],\n",
              "       [ 5.02129888e-16,  6.69092363e-17,  1.00000000e+00,\n",
              "         1.93720714e-15, -6.49000095e-17],\n",
              "       [ 1.40231377e-17,  3.45805919e-17, -1.14293615e-16,\n",
              "         1.00000000e+00,  2.03126494e-17],\n",
              "       [-4.59798414e-16, -2.72447674e-17,  7.66127751e-17,\n",
              "         1.91722398e-16,  1.00000000e+00]])"
            ]
          },
          "metadata": {},
          "execution_count": 65
        }
      ]
    },
    {
      "cell_type": "markdown",
      "source": [
        "## 계단 오르내리기 예제"
      ],
      "metadata": {
        "id": "rTmEFKDBIOB_"
      }
    },
    {
      "cell_type": "code",
      "source": [
        "import random\n",
        "position = 0\n",
        "walk = [position]\n",
        "nsteps = 1000\n",
        "for _ in range(nsteps):\n",
        "    step = 1 if random.randint(0, 1) else -1\n",
        "    position += step\n",
        "    walk.append(position)"
      ],
      "metadata": {
        "id": "SN9ht1dfIUcC"
      },
      "execution_count": 73,
      "outputs": []
    },
    {
      "cell_type": "code",
      "source": [
        "plt.plot(walk[:100])"
      ],
      "metadata": {
        "colab": {
          "base_uri": "https://localhost:8080/",
          "height": 454
        },
        "id": "cRvr1NMGIhv2",
        "outputId": "c21147ed-359e-4d00-9c38-b87b7cf43e0f"
      },
      "execution_count": 75,
      "outputs": [
        {
          "output_type": "execute_result",
          "data": {
            "text/plain": [
              "[<matplotlib.lines.Line2D at 0x787d14763ad0>]"
            ]
          },
          "metadata": {},
          "execution_count": 75
        },
        {
          "output_type": "display_data",
          "data": {
            "text/plain": [
              "<Figure size 640x480 with 1 Axes>"
            ],
            "image/png": "[encoded data removed]"
          },
          "metadata": {}
        }
      ]
    },
    {
      "cell_type": "code",
      "source": [
        "nsteps = 1000\n",
        "rng = np.random.default_rng(seed=12345)  # fresh random generator\n",
        "draws = rng.integers(0, 2, size=nsteps)\n",
        "steps = np.where(draws == 0, 1, -1)\n",
        "walk = steps.cumsum()"
      ],
      "metadata": {
        "id": "KP1ZOr1yIzmT"
      },
      "execution_count": 76,
      "outputs": []
    },
    {
      "cell_type": "code",
      "source": [
        "walk.min()\n",
        "walk.max()"
      ],
      "metadata": {
        "colab": {
          "base_uri": "https://localhost:8080/"
        },
        "id": "poji9N3DI1id",
        "outputId": "23393f14-34cc-4e89-ece8-22544be1d6f7"
      },
      "execution_count": 77,
      "outputs": [
        {
          "output_type": "execute_result",
          "data": {
            "text/plain": [
              "np.int64(50)"
            ]
          },
          "metadata": {},
          "execution_count": 77
        }
      ]
    },
    {
      "cell_type": "code",
      "source": [
        "(np.abs(walk) >= 10).argmax()"
      ],
      "metadata": {
        "colab": {
          "base_uri": "https://localhost:8080/"
        },
        "id": "GitmG1siI40Q",
        "outputId": "6fcbb64f-4891-4568-aca9-4cb7b8b57784"
      },
      "execution_count": 78,
      "outputs": [
        {
          "output_type": "execute_result",
          "data": {
            "text/plain": [
              "np.int64(155)"
            ]
          },
          "metadata": {},
          "execution_count": 78
        }
      ]
    },
    {
      "cell_type": "code",
      "source": [
        "nwalks = 5000\n",
        "nsteps = 1000\n",
        "draws = rng.integers(0, 2, size=(nwalks, nsteps)) # 0 or 1\n",
        "steps = np.where(draws > 0, 1, -1)\n",
        "walks = steps.cumsum(axis=1)\n",
        "walks"
      ],
      "metadata": {
        "colab": {
          "base_uri": "https://localhost:8080/"
        },
        "id": "k7SoXI-6I7Pb",
        "outputId": "67e36694-9d90-4fbb-be25-9f25d189e9bd"
      },
      "execution_count": 79,
      "outputs": [
        {
          "output_type": "execute_result",
          "data": {
            "text/plain": [
              "array([[  1,   2,   3, ...,  22,  23,  22],\n",
              "       [  1,   0,  -1, ..., -50, -49, -48],\n",
              "       [  1,   2,   3, ...,  50,  49,  48],\n",
              "       ...,\n",
              "       [ -1,  -2,  -1, ..., -10,  -9, -10],\n",
              "       [ -1,  -2,  -3, ...,   8,   9,   8],\n",
              "       [ -1,   0,   1, ...,  -4,  -3,  -2]])"
            ]
          },
          "metadata": {},
          "execution_count": 79
        }
      ]
    },
    {
      "cell_type": "code",
      "source": [
        "walks.max()\n",
        "walks.min()"
      ],
      "metadata": {
        "colab": {
          "base_uri": "https://localhost:8080/"
        },
        "id": "cVwJVsp8I-_G",
        "outputId": "0f1e0c32-5fbc-4bc0-915c-bcce0cec816a"
      },
      "execution_count": 80,
      "outputs": [
        {
          "output_type": "execute_result",
          "data": {
            "text/plain": [
              "np.int64(-120)"
            ]
          },
          "metadata": {},
          "execution_count": 80
        }
      ]
    },
    {
      "cell_type": "code",
      "source": [
        "hits30 = (np.abs(walks) >= 30).any(axis=1)\n",
        "hits30\n",
        "hits30.sum() # Number that hit 30 or -30"
      ],
      "metadata": {
        "colab": {
          "base_uri": "https://localhost:8080/"
        },
        "id": "COdtfXJJJBB4",
        "outputId": "81cd3463-0b19-47dd-bd89-74d447d91d66"
      },
      "execution_count": 81,
      "outputs": [
        {
          "output_type": "execute_result",
          "data": {
            "text/plain": [
              "np.int64(3395)"
            ]
          },
          "metadata": {},
          "execution_count": 81
        }
      ]
    },
    {
      "cell_type": "code",
      "source": [
        "crossing_times = (np.abs(walks[hits30]) >= 30).argmax(axis=1)\n",
        "crossing_times"
      ],
      "metadata": {
        "colab": {
          "base_uri": "https://localhost:8080/"
        },
        "id": "CzloGWKaJCPw",
        "outputId": "f89d8934-3f8a-4d3a-b996-b73bb9e6d840"
      },
      "execution_count": 82,
      "outputs": [
        {
          "output_type": "execute_result",
          "data": {
            "text/plain": [
              "array([201, 491, 283, ..., 219, 259, 541])"
            ]
          },
          "metadata": {},
          "execution_count": 82
        }
      ]
    },
    {
      "cell_type": "code",
      "source": [
        "crossing_times.mean()"
      ],
      "metadata": {
        "colab": {
          "base_uri": "https://localhost:8080/"
        },
        "id": "War3ARD8JDbV",
        "outputId": "ab3f33e4-cd86-4a1d-c021-43cc3bb38ae6"
      },
      "execution_count": 83,
      "outputs": [
        {
          "output_type": "execute_result",
          "data": {
            "text/plain": [
              "np.float64(500.5699558173785)"
            ]
          },
          "metadata": {},
          "execution_count": 83
        }
      ]
    },
    {
      "cell_type": "code",
      "source": [
        "draws = 0.25 * rng.standard_normal((nwalks, nsteps))"
      ],
      "metadata": {
        "id": "B-An31k7JEun"
      },
      "execution_count": 84,
      "outputs": []
    },
    {
      "cell_type": "markdown",
      "source": [
        "## 마치며\n",
        "- 이 책은 데이터를 다루기 위해 판다스를 주로 다루지만 배열 기반의 방식에 대해서 살펴볼 것"
      ],
      "metadata": {
        "id": "D0ieeUj6JFd9"
      }
    }
  ]
}