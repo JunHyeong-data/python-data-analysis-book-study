{
  "nbformat": 4,
  "nbformat_minor": 0,
  "metadata": {
    "colab": {
      "provenance": [],
      "authorship_tag": "ABX9TyMY1cUCiZ2jVtH23Zi/bsKK",
      "include_colab_link": true
    },
    "kernelspec": {
      "name": "python3",
      "display_name": "Python 3"
    },
    "language_info": {
      "name": "python"
    }
  },
  "cells": [
    {
      "cell_type": "markdown",
      "metadata": {
        "id": "view-in-github",
        "colab_type": "text"
      },
      "source": [
        "<a href=\"https://colab.research.google.com/github/JunHyeong-data/python-data-analysis-book-study/blob/main/ch02.ipynb\" target=\"_parent\"><img src=\"https://colab.research.google.com/assets/colab-badge.svg\" alt=\"Open In Colab\"/></a>"
      ]
    },
    {
      "cell_type": "markdown",
      "source": [
        "# 📘 Chapter 2. 파이썬 기초, IPython과 주피터 노트북\n",
        "\n",
        "## 🔎 개요\n",
        "\n",
        "- 이 책은 파이썬을 활용한 데이터 작업의 **입문서** 역할을 목표로 집필되었습니다.\n",
        "- 따라서 파이썬의 내장 자료구조와 라이브러리를 **데이터를 다루는 관점**에서 소개하는 것이 더 의미 있습니다.\n",
        "- 일부 도구는 **IPython** 또는 **Jupyter Notebook**을 통해 실습하는 것이 가장 효과적입니다.\n",
        "\n",
        "---\n",
        "\n",
        "## 2.1 파이썬 인터프리터\n",
        "\n",
        "- 파이썬은 **인터프리터 언어(interpreted language)**입니다.  \n",
        "  즉, 코드를 한 줄씩 읽고 바로 실행합니다.  \n",
        "  컴파일 없이도 결과를 빠르게 확인할 수 있어 **실험과 반복 학습**에 유리합니다.\n",
        "\n",
        "---\n",
        "\n",
        "## 2.2 IPython 기초\n",
        "\n",
        "📌 *해당 절은 생략되었습니다.*\n",
        "\n",
        "---\n",
        "\n",
        "## 2.3 파이썬 기초\n",
        "\n",
        "- 이 절에서는 파이썬 프로그래밍의 **기초 개념과 원리**를 간단히 소개합니다.\n",
        "- 다음 장에서는 파이썬의 **자료구조**, **함수**, **내장 도구들**에 대해 더 자세히 다룰 예정입니다.\n"
      ],
      "metadata": {
        "id": "Ij5r8ChJXqVQ"
      }
    },
    {
      "cell_type": "markdown",
      "source": [
        "### 변수와 인수 전달\n",
        "파이썬에서 변수에 값을 대입하면 대입 연산자 오른쪽에 있는 객체에 대한 **참조**를 생성한다."
      ],
      "metadata": {
        "id": "G6iY60fThTZT"
      }
    },
    {
      "cell_type": "code",
      "source": [
        "a = [1, 2, 3]"
      ],
      "metadata": {
        "colab": {
          "base_uri": "https://localhost:8080/"
        },
        "id": "QjdYbp0RgTak",
        "outputId": "965fa5a9-5c5c-4883-e7ae-b8388419e823"
      },
      "execution_count": 2,
      "outputs": [
        {
          "output_type": "execute_result",
          "data": {
            "text/plain": [
              "[1, 2, 3]"
            ]
          },
          "metadata": {},
          "execution_count": 2
        }
      ]
    },
    {
      "cell_type": "code",
      "source": [
        "b = a\n",
        "b"
      ],
      "metadata": {
        "colab": {
          "base_uri": "https://localhost:8080/"
        },
        "id": "Umby_RZ-hQk1",
        "outputId": "cc2055f7-d69f-4066-e5a0-0b6890c24e3b"
      },
      "execution_count": 3,
      "outputs": [
        {
          "output_type": "execute_result",
          "data": {
            "text/plain": [
              "[1, 2, 3]"
            ]
          },
          "metadata": {},
          "execution_count": 3
        }
      ]
    },
    {
      "cell_type": "code",
      "source": [
        "a.append(4)\n",
        "b"
      ],
      "metadata": {
        "colab": {
          "base_uri": "https://localhost:8080/"
        },
        "id": "kVYPPIwnhrFm",
        "outputId": "bb516739-4f46-4490-adee-c0c1892c7f83"
      },
      "execution_count": 4,
      "outputs": [
        {
          "output_type": "execute_result",
          "data": {
            "text/plain": [
              "[1, 2, 3, 4]"
            ]
          },
          "metadata": {},
          "execution_count": 4
        }
      ]
    },
    {
      "cell_type": "markdown",
      "source": [
        "### 동적참조와 강한 타입"
      ],
      "metadata": {
        "id": "Xu1JIUuGhvDB"
      }
    },
    {
      "cell_type": "code",
      "source": [
        "a = 5\n",
        "type(a)\n",
        "a = \"foo\"\n",
        "type(a)"
      ],
      "metadata": {
        "colab": {
          "base_uri": "https://localhost:8080/"
        },
        "id": "zPVIEW-fiMMj",
        "outputId": "51084b52-d804-4fe1-e5b1-01e76f50591a"
      },
      "execution_count": 5,
      "outputs": [
        {
          "output_type": "execute_result",
          "data": {
            "text/plain": [
              "str"
            ]
          },
          "metadata": {},
          "execution_count": 5
        }
      ]
    },
    {
      "cell_type": "code",
      "source": [
        "a = 4.5\n",
        "b = 2\n",
        "# String formatting, to be visited later\n",
        "print(f\"a is {type(a)}, b is {type(b)}\")\n",
        "a / b\n",
        "# 여기서 b는 정수이지만 나누기 연산을 위해 묵시적으로 float으로 변환한다."
      ],
      "metadata": {
        "colab": {
          "base_uri": "https://localhost:8080/"
        },
        "id": "aCZH-DKkieNv",
        "outputId": "588dd117-617a-4bbc-b49b-4e610dedea84"
      },
      "execution_count": 6,
      "outputs": [
        {
          "output_type": "stream",
          "name": "stdout",
          "text": [
            "a is <class 'float'>, b is <class 'int'>\n"
          ]
        },
        {
          "output_type": "execute_result",
          "data": {
            "text/plain": [
              "2.25"
            ]
          },
          "metadata": {},
          "execution_count": 6
        }
      ]
    },
    {
      "cell_type": "code",
      "source": [
        "a = 5\n",
        "isinstance(a, int)\n",
        "# isinstance 함수를 이용해 어떤 객체가 무슨 자료형인지 검사할 수 있다."
      ],
      "metadata": {
        "colab": {
          "base_uri": "https://localhost:8080/"
        },
        "id": "j3aUElkdioWD",
        "outputId": "ba4c75ec-01b9-41c0-9133-8b2e035c8be8"
      },
      "execution_count": 8,
      "outputs": [
        {
          "output_type": "execute_result",
          "data": {
            "text/plain": [
              "True"
            ]
          },
          "metadata": {},
          "execution_count": 8
        }
      ]
    },
    {
      "cell_type": "code",
      "source": [
        "a = 5; b = 4.5\n",
        "isinstance(a, (int, float))\n",
        "isinstance(b, (int, float))\n",
        "# isinstance에 튜플을 넘겨서 객체의 자료형이 주어진 튜플 중 하나인지 검사 가능"
      ],
      "metadata": {
        "colab": {
          "base_uri": "https://localhost:8080/"
        },
        "id": "RPCaWEc7ixSs",
        "outputId": "9dc98c36-9554-430d-c567-63f33f568d27"
      },
      "execution_count": 9,
      "outputs": [
        {
          "output_type": "execute_result",
          "data": {
            "text/plain": [
              "True"
            ]
          },
          "metadata": {},
          "execution_count": 9
        }
      ]
    },
    {
      "cell_type": "markdown",
      "source": [
        "### 속성과 메서드\n",
        "파이썬에서 객체는 일반적으로 그 객체 내부에 저장된 다른 파이썬 객체인 '속성'과 그 객체의 내부 데이터에 접근할 수 있는 함수인 '메서드'를 갖는다."
      ],
      "metadata": {
        "id": "MDFOM0vkjKMN"
      }
    },
    {
      "cell_type": "code",
      "source": [
        "a = \"foo\""
      ],
      "metadata": {
        "id": "GlkZ4tZDjoKD"
      },
      "execution_count": 13,
      "outputs": []
    },
    {
      "cell_type": "code",
      "source": [
        "getattr(a, \"split\")"
      ],
      "metadata": {
        "colab": {
          "base_uri": "https://localhost:8080/"
        },
        "id": "Y83gJqWFj7mn",
        "outputId": "02ba5bb6-6b91-4a9c-a121-2296b6768f8c"
      },
      "execution_count": 14,
      "outputs": [
        {
          "output_type": "execute_result",
          "data": {
            "text/plain": [
              "<function str.split(sep=None, maxsplit=-1)>"
            ]
          },
          "metadata": {},
          "execution_count": 14
        }
      ]
    },
    {
      "cell_type": "markdown",
      "source": [
        "### 덕 타이핑\n",
        "변수의 실제 타입이 아니라 그 객체가 가진 메서드나 속성으로 판단하는 파이썬식 유연한 타입 처리 방식"
      ],
      "metadata": {
        "id": "Y_l1wdDxkNuQ"
      }
    },
    {
      "cell_type": "code",
      "source": [
        "def isiterable(obj):\n",
        "    try:\n",
        "        iter(obj)\n",
        "        return True\n",
        "    except TypeError: # not iterable\n",
        "        return False"
      ],
      "metadata": {
        "id": "_1aZqAAWj_Mo"
      },
      "execution_count": 15,
      "outputs": []
    },
    {
      "cell_type": "code",
      "source": [
        "isiterable(\"a string\")\n",
        "isiterable([1, 2, 3])\n",
        "isiterable(5)"
      ],
      "metadata": {
        "colab": {
          "base_uri": "https://localhost:8080/"
        },
        "id": "Io2exApHkjkO",
        "outputId": "6218fd64-f376-45c5-f24f-b0fe7a533260"
      },
      "execution_count": 16,
      "outputs": [
        {
          "output_type": "execute_result",
          "data": {
            "text/plain": [
              "False"
            ]
          },
          "metadata": {},
          "execution_count": 16
        }
      ]
    },
    {
      "cell_type": "markdown",
      "source": [
        "### 문자열\n",
        "파이썬의 강력하고 유연한 문자열 처리 기능 때문에 파이썬을 애용하는 이들이 많다."
      ],
      "metadata": {
        "id": "HzzOj5s9lSv7"
      }
    },
    {
      "cell_type": "code",
      "source": [
        "c = \"\"\"\n",
        "This is a longer string that\n",
        "spans multiple lines\n",
        "\"\"\""
      ],
      "metadata": {
        "id": "YbYnVKDolokC"
      },
      "execution_count": 17,
      "outputs": []
    },
    {
      "cell_type": "code",
      "source": [
        "c.count(\"\\n\")"
      ],
      "metadata": {
        "colab": {
          "base_uri": "https://localhost:8080/"
        },
        "id": "ulFz5i0glrD8",
        "outputId": "4854af29-a0fe-4955-e0c7-1dff6a14cc89"
      },
      "execution_count": 19,
      "outputs": [
        {
          "output_type": "execute_result",
          "data": {
            "text/plain": [
              "3"
            ]
          },
          "metadata": {},
          "execution_count": 19
        }
      ]
    },
    {
      "cell_type": "code",
      "source": [
        "a = \"this is a string\"\n",
        "a[10] = \"f\"\n",
        "# 문자열 객체는 불변 객체이므로 변경 불가능하다\n",
        "# 문자열을 변경하려면 replace 같은 메서드를 사용해야한다."
      ],
      "metadata": {
        "colab": {
          "base_uri": "https://localhost:8080/",
          "height": 168
        },
        "id": "jVwvUFRgl8DY",
        "outputId": "b205a61a-6699-4c13-b821-5c70c6531f7d"
      },
      "execution_count": 20,
      "outputs": [
        {
          "output_type": "error",
          "ename": "TypeError",
          "evalue": "'str' object does not support item assignment",
          "traceback": [
            "\u001b[0;31m---------------------------------------------------------------------------\u001b[0m",
            "\u001b[0;31mTypeError\u001b[0m                                 Traceback (most recent call last)",
            "\u001b[0;32m<ipython-input-20-8df2a2fe1bd2>\u001b[0m in \u001b[0;36m<cell line: 0>\u001b[0;34m()\u001b[0m\n\u001b[1;32m      1\u001b[0m \u001b[0ma\u001b[0m \u001b[0;34m=\u001b[0m \u001b[0;34m\"this is a string\"\u001b[0m\u001b[0;34m\u001b[0m\u001b[0;34m\u001b[0m\u001b[0m\n\u001b[0;32m----> 2\u001b[0;31m \u001b[0ma\u001b[0m\u001b[0;34m[\u001b[0m\u001b[0;36m10\u001b[0m\u001b[0;34m]\u001b[0m \u001b[0;34m=\u001b[0m \u001b[0;34m\"f\"\u001b[0m\u001b[0;34m\u001b[0m\u001b[0;34m\u001b[0m\u001b[0m\n\u001b[0m",
            "\u001b[0;31mTypeError\u001b[0m: 'str' object does not support item assignment"
          ]
        }
      ]
    },
    {
      "cell_type": "code",
      "source": [
        "b = a.replace(\"string\", \"longer string\")\n",
        "b"
      ],
      "metadata": {
        "colab": {
          "base_uri": "https://localhost:8080/",
          "height": 36
        },
        "id": "M9ls8lhFmNTJ",
        "outputId": "717ec942-6139-4078-82b3-0ddd1ac5f4f9"
      },
      "execution_count": 21,
      "outputs": [
        {
          "output_type": "execute_result",
          "data": {
            "text/plain": [
              "'this is a longer string'"
            ],
            "application/vnd.google.colaboratory.intrinsic+json": {
              "type": "string"
            }
          },
          "metadata": {},
          "execution_count": 21
        }
      ]
    },
    {
      "cell_type": "code",
      "source": [
        "a"
      ],
      "metadata": {
        "colab": {
          "base_uri": "https://localhost:8080/",
          "height": 36
        },
        "id": "4ayHHpwTmTO2",
        "outputId": "9b26e9df-c03b-4cda-8fca-b566bece6c55"
      },
      "execution_count": 22,
      "outputs": [
        {
          "output_type": "execute_result",
          "data": {
            "text/plain": [
              "'this is a string'"
            ],
            "application/vnd.google.colaboratory.intrinsic+json": {
              "type": "string"
            }
          },
          "metadata": {},
          "execution_count": 22
        }
      ]
    },
    {
      "cell_type": "code",
      "source": [
        "s = \"python\"\n",
        "print(list(s))\n",
        "s[:3]\n",
        "# 문자열은 일련의 유니코드 문자이며 리스트나 튜플 같은 다른 순차적인 자료형처럼 취급된다"
      ],
      "metadata": {
        "colab": {
          "base_uri": "https://localhost:8080/",
          "height": 54
        },
        "id": "8KaNSWtCmdWW",
        "outputId": "699e5a2f-c78d-4d16-ee55-b7a15dbf4379"
      },
      "execution_count": 24,
      "outputs": [
        {
          "output_type": "stream",
          "name": "stdout",
          "text": [
            "['p', 'y', 't', 'h', 'o', 'n']\n"
          ]
        },
        {
          "output_type": "execute_result",
          "data": {
            "text/plain": [
              "'pyt'"
            ],
            "application/vnd.google.colaboratory.intrinsic+json": {
              "type": "string"
            }
          },
          "metadata": {},
          "execution_count": 24
        }
      ]
    },
    {
      "cell_type": "code",
      "source": [
        "s = \"12\\\\34\"\n",
        "print(s)\n",
        "# 역슬래시는 이스케이프 문자로, \\n이나 유니코드 문자 같은 특수한 목적의 문자를 나타내기 위해 사용\n",
        "# 역슬래시를 나타내려면 다음처럼 역슬래시 자체를 이스케이프한다"
      ],
      "metadata": {
        "colab": {
          "base_uri": "https://localhost:8080/"
        },
        "id": "IzT2R7dvnPpN",
        "outputId": "26ca919e-13fa-402d-8059-783d67d8f8e4"
      },
      "execution_count": 25,
      "outputs": [
        {
          "output_type": "stream",
          "name": "stdout",
          "text": [
            "12\\34\n"
          ]
        }
      ]
    },
    {
      "cell_type": "code",
      "source": [
        "s = r\"this\\has\\no\\special\\characters\"\n",
        "print(s)\n",
        "# 문자열 앞에 r을 사용하면 문자열을 있는 그대로 해석하도록 한다.\n",
        "# 여기서 r은 raw를 의미"
      ],
      "metadata": {
        "colab": {
          "base_uri": "https://localhost:8080/"
        },
        "id": "OQ6ToHrRnkZZ",
        "outputId": "a5adafb9-b54c-4f47-f224-7f7d14a6a2d0"
      },
      "execution_count": 27,
      "outputs": [
        {
          "output_type": "stream",
          "name": "stdout",
          "text": [
            "this\\has\\no\\special\\characters\n"
          ]
        }
      ]
    },
    {
      "cell_type": "markdown",
      "source": [
        "### 바이트와 유니코드\n",
        "아스키와 아스키가 아닌 텍스트를 일관되게 다루기 위해서 유니코드가 최상위 문자열 타입이 되었다.\n",
        "\n",
        "다음 예제는 아스키가 아닌 문자가 포함된 유니코드 문자열이다."
      ],
      "metadata": {
        "id": "G-f-grlpoMQt"
      }
    },
    {
      "cell_type": "code",
      "source": [
        "val = \"español\"\n",
        "val"
      ],
      "metadata": {
        "colab": {
          "base_uri": "https://localhost:8080/",
          "height": 36
        },
        "id": "QXHqq8hTog4u",
        "outputId": "3944db85-3750-4518-8a9c-a0656eec0ee1"
      },
      "execution_count": 28,
      "outputs": [
        {
          "output_type": "execute_result",
          "data": {
            "text/plain": [
              "'español'"
            ],
            "application/vnd.google.colaboratory.intrinsic+json": {
              "type": "string"
            }
          },
          "metadata": {},
          "execution_count": 28
        }
      ]
    },
    {
      "cell_type": "code",
      "source": [
        "val_utf8 = val.encode(\"utf-8\")\n",
        "print(val_utf8)\n",
        "type(val_utf8)"
      ],
      "metadata": {
        "colab": {
          "base_uri": "https://localhost:8080/"
        },
        "id": "5-psKK03ojGH",
        "outputId": "1d3f70d0-0d6f-46c2-f4a7-a3e694dbeffc"
      },
      "execution_count": 30,
      "outputs": [
        {
          "output_type": "stream",
          "name": "stdout",
          "text": [
            "b'espa\\xc3\\xb1ol'\n"
          ]
        },
        {
          "output_type": "execute_result",
          "data": {
            "text/plain": [
              "bytes"
            ]
          },
          "metadata": {},
          "execution_count": 30
        }
      ]
    },
    {
      "cell_type": "code",
      "source": [
        "val_utf8.decode(\"utf-8\")"
      ],
      "metadata": {
        "colab": {
          "base_uri": "https://localhost:8080/",
          "height": 36
        },
        "id": "7Re8qkxnooU8",
        "outputId": "b2bd440f-0301-4883-91f4-29ccb45ed58a"
      },
      "execution_count": 31,
      "outputs": [
        {
          "output_type": "execute_result",
          "data": {
            "text/plain": [
              "'español'"
            ],
            "application/vnd.google.colaboratory.intrinsic+json": {
              "type": "string"
            }
          },
          "metadata": {},
          "execution_count": 31
        }
      ]
    },
    {
      "cell_type": "markdown",
      "source": [
        "### 날짜와 시간\n",
        "파이썬 내장 datetime 모듈은 datetime, date, time 자료형을 지원한다. datetime은 이름에서 알 수 있듯이 date와 time 정보를 함께 저장하며 가장 흔하게 사용되는 자료형이다."
      ],
      "metadata": {
        "id": "SjEa9FHeo55n"
      }
    },
    {
      "cell_type": "code",
      "source": [
        "from datetime import datetime, date, time\n",
        "dt = datetime(2011, 10, 29, 20, 30, 21)\n",
        "dt.day"
      ],
      "metadata": {
        "colab": {
          "base_uri": "https://localhost:8080/"
        },
        "id": "deDwfghHpHZQ",
        "outputId": "0287aef0-1ec9-437c-bb36-700817bf13b4"
      },
      "execution_count": 33,
      "outputs": [
        {
          "output_type": "execute_result",
          "data": {
            "text/plain": [
              "29"
            ]
          },
          "metadata": {},
          "execution_count": 33
        }
      ]
    },
    {
      "cell_type": "code",
      "source": [
        "dt.minute"
      ],
      "metadata": {
        "colab": {
          "base_uri": "https://localhost:8080/"
        },
        "id": "tZLUrLrGpPPH",
        "outputId": "80cea89e-fb69-4c0d-fc69-c9ede9113abf"
      },
      "execution_count": 34,
      "outputs": [
        {
          "output_type": "execute_result",
          "data": {
            "text/plain": [
              "30"
            ]
          },
          "metadata": {},
          "execution_count": 34
        }
      ]
    },
    {
      "cell_type": "code",
      "source": [
        "print(dt.date())\n",
        "dt.time()"
      ],
      "metadata": {
        "colab": {
          "base_uri": "https://localhost:8080/"
        },
        "id": "RNBoI6bVpUCE",
        "outputId": "319417c7-0c0e-4438-987d-73f5800dd218"
      },
      "execution_count": 36,
      "outputs": [
        {
          "output_type": "stream",
          "name": "stdout",
          "text": [
            "2011-10-29\n"
          ]
        },
        {
          "output_type": "execute_result",
          "data": {
            "text/plain": [
              "datetime.time(20, 30, 21)"
            ]
          },
          "metadata": {},
          "execution_count": 36
        }
      ]
    },
    {
      "cell_type": "markdown",
      "source": [
        "## 마치며\n",
        "이 장에서는 파이썬 언어의 기본 개념과 IPython과 주피터 프로그래밍 환경에 대해 간략히 소개했다. 다음 장에서는 이 책 전반에 걸쳐 사용하게 될 다양한 내장 자료형과 함수, 칩출력 유틸리티에 대해 알아본다."
      ],
      "metadata": {
        "id": "W7-SZMMEqTaz"
      }
    }
  ]
}